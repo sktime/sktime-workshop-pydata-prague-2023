{
 "cells": [
  {
   "cell_type": "markdown",
   "metadata": {},
   "source": [
    "# TODOs\n",
    "* Graphical or Graph pipeline?\n",
    "\n",
    "\n",
    "# 2 Advanced Forecasting Pipelines\n",
    "This notebook is about pipelining and tuning (grid search) for time series forecasting with `sktime`\n",
    "\n",
    "In the previous notebook, we considered\n",
    "* sequential pipelines\n",
    "* tuning their hyperparameters\n",
    "\n",
    "However, there are more aspects that might be covered by pipelines. Not only the hyperparameters of the objects in the pipeline can be considered but also the structure of the pipeline can be considered as hyperparameter.\n",
    "Furthermore, in general, pipeline need not to be sequential. They can also be non-sequential (graphical pipeline).\n",
    "Require specific diagnostic methods, and also persisting.\n",
    "\n",
    "Thus, these topics are covered by that Notebook.\n",
    "\n",
    "\n"
   ]
  },
  {
   "cell_type": "code",
   "execution_count": 1,
   "metadata": {},
   "outputs": [],
   "source": [
    "import warnings\n",
    "import numpy as np\n",
    "\n",
    "warnings.filterwarnings(\"ignore\")"
   ]
  },
  {
   "cell_type": "markdown",
   "metadata": {},
   "source": [
    "## 2.1 Tuning the Pipeline's Structure (AutoML)\n",
    "In the previous notebook, we performed a grid search to find the best hyperparameters. However, also the structure of the pipeline is a hyperparamter. Thus, for tuning this hyperparameter, `sktime` contains\n",
    "* MultiplexForecasters\n",
    "* OptionalPassthrough\n",
    "* ...\n",
    "\n",
    "That are explained in the following before showing an AutoML example.\n"
   ]
  },
  {
   "cell_type": "markdown",
   "metadata": {},
   "source": [
    "### 2.1.1 Tuning ComponentsModel selection\n",
    "\n",
    "Pipeline structure choices influence performance\n",
    "\n",
    "`sktime` allows to expose these choices via structural compositors:\n",
    "\n",
    "* switch between transform/forecast: `MultiplexTransformer`, `MultiplexForecaster`\n",
    "* transformer on/off: `OptionalPassthrough`\n",
    "* sequence of transformers: `Permute`\n",
    "\n",
    "Combine with pipelines and `FeatureUnion` for rich structure space\n",
    "\n",
    "#### `MultiplexForecaster`\n",
    "We can use the `MultiplexForecaster` to compare the performance of different forecasters. This approach might be useful if we want to compare the performance of different forecasters that have been tuned and fitted already separately. The `MultiplexForecaster` is just a forecaster compostition that provides a parameters `selected_forecaster: List[str]` that can be tuned with a grid search. The other parameters of the forecasters are not tuned.\n"
   ]
  },
  {
   "cell_type": "code",
   "execution_count": 28,
   "metadata": {},
   "outputs": [
    {
     "data": {
      "text/plain": [
       "{'selected_forecaster': 'theta'}"
      ]
     },
     "execution_count": 28,
     "metadata": {},
     "output_type": "execute_result"
    }
   ],
   "source": [
    "from sktime.forecasting.compose import MultiplexForecaster\n",
    "\n",
    "forecaster = MultiplexForecaster(\n",
    "    forecasters=[\n",
    "        (\"naive\", NaiveForecaster()),\n",
    "        (\"stl\", STLForecaster()),\n",
    "        (\"theta\", ThetaForecaster()),\n",
    "    ]\n",
    ")\n",
    "gscv = ForecastingGridSearchCV(\n",
    "    forecaster=forecaster,\n",
    "    param_grid={\"selected_forecaster\": [\"naive\", \"stl\", \"theta\"]},\n",
    "    cv=cv,\n",
    "    n_jobs=-1,\n",
    ")\n",
    "gscv.fit(y)\n",
    "gscv.best_params_"
   ]
  },
  {
   "cell_type": "markdown",
   "source": [
    "#### Optional Passthrough"
   ],
   "metadata": {
    "collapsed": false
   }
  },
  {
   "cell_type": "markdown",
   "metadata": {},
   "source": [
    "In `sktime` there is a transformer composition called `OptionalPassthrough()` which gets a transformer as an argument and a param `passthrough: bool`. Setting `passthrough=True` will return an identity transformation for the given data. Setting `passthrough=False` will apply the given inner transformer on the data."
   ]
  },
  {
   "cell_type": "code",
   "execution_count": 32,
   "metadata": {},
   "outputs": [
    {
     "data": {
      "text/plain": [
       "1991-01    266.0\n",
       "1991-02    145.9\n",
       "1991-03    183.1\n",
       "1991-04    119.3\n",
       "1991-05    180.3\n",
       "Freq: M, Name: Number of shampoo sales, dtype: float64"
      ]
     },
     "execution_count": 32,
     "metadata": {},
     "output_type": "execute_result"
    }
   ],
   "source": [
    "from sktime.transformations.series.compose import OptionalPassthrough\n",
    "\n",
    "transformer = OptionalPassthrough(transformer=Detrender(), passthrough=True)\n",
    "transformer.fit_transform(y_train).head()"
   ]
  },
  {
   "cell_type": "code",
   "execution_count": 33,
   "metadata": {},
   "outputs": [
    {
     "data": {
      "text/plain": [
       "1991-01    266.0\n",
       "1991-02    145.9\n",
       "1991-03    183.1\n",
       "1991-04    119.3\n",
       "1991-05    180.3\n",
       "Freq: M, Name: Number of shampoo sales, dtype: float64"
      ]
     },
     "execution_count": 33,
     "metadata": {},
     "output_type": "execute_result"
    }
   ],
   "source": [
    "y_train.head()"
   ]
  },
  {
   "cell_type": "code",
   "execution_count": 34,
   "metadata": {},
   "outputs": [
    {
     "data": {
      "text/plain": [
       "1991-01    130.376344\n",
       "1991-02      1.503263\n",
       "1991-03     29.930182\n",
       "1991-04    -42.642900\n",
       "1991-05      9.584019\n",
       "Freq: M, dtype: float64"
      ]
     },
     "execution_count": 34,
     "metadata": {},
     "output_type": "execute_result"
    }
   ],
   "source": [
    "transformer = OptionalPassthrough(transformer=Detrender(), passthrough=False)\n",
    "transformer.fit_transform(y_train).head()"
   ]
  },
  {
   "cell_type": "markdown",
   "metadata": {},
   "source": [
    "#### Permutation of transformers\n",
    "\n",
    "Given a set of four different transformers, we would like to know which permutation (ordering) of the four transformers is having the best error. In total there are `4! = 24` different permutations. We can use the `GridSearchCV` to find the best permutation."
   ]
  },
  {
   "cell_type": "code",
   "execution_count": 38,
   "metadata": {},
   "outputs": [],
   "source": [
    "from sktime.forecasting.compose import Permute"
   ]
  },
  {
   "cell_type": "code",
   "execution_count": 39,
   "metadata": {},
   "outputs": [
    {
     "name": "stdout",
     "output_type": "stream",
     "text": [
      "Fitting 19 folds for each of 4 candidates, totalling 76 fits\n"
     ]
    }
   ],
   "source": [
    "forecaster = TransformedTargetForecaster(\n",
    "    steps=[\n",
    "        (\"detrender\", Detrender()),\n",
    "        (\"deseasonalizer\", Deseasonalizer()),\n",
    "        (\"power\", TabularToSeriesAdaptor(PowerTransformer())),\n",
    "        (\"scaler\", TabularToSeriesAdaptor(RobustScaler())),\n",
    "        (\"forecaster\", ExponentialSmoothing()),\n",
    "    ]\n",
    ")\n",
    "\n",
    "param_grid = {\n",
    "    \"permutation\": [\n",
    "        [\"detrender\", \"deseasonalizer\", \"power\", \"scaler\", \"forecaster\"],\n",
    "        [\"power\", \"scaler\", \"detrender\", \"deseasonalizer\", \"forecaster\"],\n",
    "        [\"scaler\", \"deseasonalizer\", \"power\", \"detrender\", \"forecaster\"],\n",
    "        [\"deseasonalizer\", \"power\", \"scaler\", \"detrender\", \"forecaster\"],\n",
    "    ]\n",
    "}\n",
    "permuted = Permute(estimator=forecaster, permutation=None)\n",
    "\n",
    "gscv = ForecastingGridSearchCV(\n",
    "    forecaster=permuted,\n",
    "    param_grid=param_grid,\n",
    "    cv=cv,\n",
    "    n_jobs=-1,\n",
    "    verbose=1,\n",
    "    scoring=MeanSquaredError(square_root=True),\n",
    ")\n",
    "\n",
    "permuted = gscv.fit(y, fh=fh)"
   ]
  },
  {
   "cell_type": "code",
   "execution_count": 40,
   "metadata": {},
   "outputs": [
    {
     "data": {
      "text/html": [
       "<div>\n",
       "<style scoped>\n",
       "    .dataframe tbody tr th:only-of-type {\n",
       "        vertical-align: middle;\n",
       "    }\n",
       "\n",
       "    .dataframe tbody tr th {\n",
       "        vertical-align: top;\n",
       "    }\n",
       "\n",
       "    .dataframe thead th {\n",
       "        text-align: right;\n",
       "    }\n",
       "</style>\n",
       "<table border=\"1\" class=\"dataframe\">\n",
       "  <thead>\n",
       "    <tr style=\"text-align: right;\">\n",
       "      <th></th>\n",
       "      <th>mean_test_MeanSquaredError</th>\n",
       "      <th>mean_fit_time</th>\n",
       "      <th>mean_pred_time</th>\n",
       "      <th>params</th>\n",
       "      <th>rank_test_MeanSquaredError</th>\n",
       "    </tr>\n",
       "  </thead>\n",
       "  <tbody>\n",
       "    <tr>\n",
       "      <th>0</th>\n",
       "      <td>104.529303</td>\n",
       "      <td>0.119823</td>\n",
       "      <td>0.032105</td>\n",
       "      <td>{'permutation': ['detrender', 'deseasonalizer'...</td>\n",
       "      <td>4.0</td>\n",
       "    </tr>\n",
       "    <tr>\n",
       "      <th>1</th>\n",
       "      <td>95.172818</td>\n",
       "      <td>0.118840</td>\n",
       "      <td>0.033758</td>\n",
       "      <td>{'permutation': ['power', 'scaler', 'detrender...</td>\n",
       "      <td>1.5</td>\n",
       "    </tr>\n",
       "    <tr>\n",
       "      <th>2</th>\n",
       "      <td>95.243942</td>\n",
       "      <td>0.114363</td>\n",
       "      <td>0.033743</td>\n",
       "      <td>{'permutation': ['scaler', 'deseasonalizer', '...</td>\n",
       "      <td>3.0</td>\n",
       "    </tr>\n",
       "    <tr>\n",
       "      <th>3</th>\n",
       "      <td>95.172818</td>\n",
       "      <td>0.119377</td>\n",
       "      <td>0.030739</td>\n",
       "      <td>{'permutation': ['deseasonalizer', 'power', 's...</td>\n",
       "      <td>1.5</td>\n",
       "    </tr>\n",
       "  </tbody>\n",
       "</table>\n",
       "</div>"
      ],
      "text/plain": [
       "   mean_test_MeanSquaredError  mean_fit_time  mean_pred_time  \\\n",
       "0                  104.529303       0.119823        0.032105   \n",
       "1                   95.172818       0.118840        0.033758   \n",
       "2                   95.243942       0.114363        0.033743   \n",
       "3                   95.172818       0.119377        0.030739   \n",
       "\n",
       "                                              params  \\\n",
       "0  {'permutation': ['detrender', 'deseasonalizer'...   \n",
       "1  {'permutation': ['power', 'scaler', 'detrender...   \n",
       "2  {'permutation': ['scaler', 'deseasonalizer', '...   \n",
       "3  {'permutation': ['deseasonalizer', 'power', 's...   \n",
       "\n",
       "   rank_test_MeanSquaredError  \n",
       "0                         4.0  \n",
       "1                         1.5  \n",
       "2                         3.0  \n",
       "3                         1.5  "
      ]
     },
     "execution_count": 40,
     "metadata": {},
     "output_type": "execute_result"
    }
   ],
   "source": [
    "permuted.cv_results_"
   ]
  },
  {
   "cell_type": "code",
   "execution_count": 41,
   "metadata": {},
   "outputs": [
    {
     "data": {
      "text/plain": [
       "{'permutation': ['power',\n",
       "  'scaler',\n",
       "  'detrender',\n",
       "  'deseasonalizer',\n",
       "  'forecaster']}"
      ]
     },
     "execution_count": 41,
     "metadata": {},
     "output_type": "execute_result"
    }
   ],
   "source": [
    "gscv.best_params_"
   ]
  },
  {
   "cell_type": "code",
   "execution_count": 42,
   "metadata": {},
   "outputs": [
    {
     "data": {
      "text/plain": [
       "{'permutation': ['detrender',\n",
       "  'deseasonalizer',\n",
       "  'power',\n",
       "  'scaler',\n",
       "  'forecaster']}"
      ]
     },
     "execution_count": 42,
     "metadata": {},
     "output_type": "execute_result"
    }
   ],
   "source": [
    "# worst params\n",
    "gscv.cv_results_.sort_values(by=\"mean_test_MeanSquaredError\", ascending=True).iloc[-1][\n",
    "    \"params\"\n",
    "]"
   ]
  },
  {
   "cell_type": "markdown",
   "metadata": {},
   "source": [
    "## 2.1.2 AutoML and Forecasting\n",
    "\n",
    "Taking all incredients from above examples, we can build a forecaster that comes close to what is usually called [AutoML](https://en.wikipedia.org/wiki/Automated_machine_learning).\n",
    "With AutoML we aim to automate as many steps of an ML model creation as possible. The main compositions from `sktime` that we can use for this are:\n",
    "- `TransformedTargetForecaster`\n",
    "- `ForecastingPipeline`\n",
    "- `ForecastingGridSearchCV`\n",
    "- `OptionalPassthrough`\n",
    "- `Permute`"
   ]
  },
  {
   "cell_type": "markdown",
   "metadata": {},
   "source": [
    "### Univariate example\n",
    "Please see appendix section for an example with exogenous data"
   ]
  },
  {
   "cell_type": "code",
   "execution_count": 43,
   "metadata": {},
   "outputs": [
    {
     "name": "stdout",
     "output_type": "stream",
     "text": [
      "Fitting 13 folds for each of 192 candidates, totalling 2496 fits\n"
     ]
    },
    {
     "data": {
      "text/html": [
       "<style>#sk-container-id-5 {color: black;background-color: white;}#sk-container-id-5 pre{padding: 0;}#sk-container-id-5 div.sk-toggleable {background-color: white;}#sk-container-id-5 label.sk-toggleable__label {cursor: pointer;display: block;width: 100%;margin-bottom: 0;padding: 0.3em;box-sizing: border-box;text-align: center;}#sk-container-id-5 label.sk-toggleable__label-arrow:before {content: \"▸\";float: left;margin-right: 0.25em;color: #696969;}#sk-container-id-5 label.sk-toggleable__label-arrow:hover:before {color: black;}#sk-container-id-5 div.sk-estimator:hover label.sk-toggleable__label-arrow:before {color: black;}#sk-container-id-5 div.sk-toggleable__content {max-height: 0;max-width: 0;overflow: hidden;text-align: left;background-color: #f0f8ff;}#sk-container-id-5 div.sk-toggleable__content pre {margin: 0.2em;color: black;border-radius: 0.25em;background-color: #f0f8ff;}#sk-container-id-5 input.sk-toggleable__control:checked~div.sk-toggleable__content {max-height: 200px;max-width: 100%;overflow: auto;}#sk-container-id-5 input.sk-toggleable__control:checked~label.sk-toggleable__label-arrow:before {content: \"▾\";}#sk-container-id-5 div.sk-estimator input.sk-toggleable__control:checked~label.sk-toggleable__label {background-color: #d4ebff;}#sk-container-id-5 div.sk-label input.sk-toggleable__control:checked~label.sk-toggleable__label {background-color: #d4ebff;}#sk-container-id-5 input.sk-hidden--visually {border: 0;clip: rect(1px 1px 1px 1px);clip: rect(1px, 1px, 1px, 1px);height: 1px;margin: -1px;overflow: hidden;padding: 0;position: absolute;width: 1px;}#sk-container-id-5 div.sk-estimator {font-family: monospace;background-color: #f0f8ff;border: 1px dotted black;border-radius: 0.25em;box-sizing: border-box;margin-bottom: 0.5em;}#sk-container-id-5 div.sk-estimator:hover {background-color: #d4ebff;}#sk-container-id-5 div.sk-parallel-item::after {content: \"\";width: 100%;border-bottom: 1px solid gray;flex-grow: 1;}#sk-container-id-5 div.sk-label:hover label.sk-toggleable__label {background-color: #d4ebff;}#sk-container-id-5 div.sk-serial::before {content: \"\";position: absolute;border-left: 1px solid gray;box-sizing: border-box;top: 0;bottom: 0;left: 50%;z-index: 0;}#sk-container-id-5 div.sk-serial {display: flex;flex-direction: column;align-items: center;background-color: white;padding-right: 0.2em;padding-left: 0.2em;position: relative;}#sk-container-id-5 div.sk-item {position: relative;z-index: 1;}#sk-container-id-5 div.sk-parallel {display: flex;align-items: stretch;justify-content: center;background-color: white;position: relative;}#sk-container-id-5 div.sk-item::before, #sk-container-id-5 div.sk-parallel-item::before {content: \"\";position: absolute;border-left: 1px solid gray;box-sizing: border-box;top: 0;bottom: 0;left: 50%;z-index: -1;}#sk-container-id-5 div.sk-parallel-item {display: flex;flex-direction: column;z-index: 1;position: relative;background-color: white;}#sk-container-id-5 div.sk-parallel-item:first-child::after {align-self: flex-end;width: 50%;}#sk-container-id-5 div.sk-parallel-item:last-child::after {align-self: flex-start;width: 50%;}#sk-container-id-5 div.sk-parallel-item:only-child::after {width: 0;}#sk-container-id-5 div.sk-dashed-wrapped {border: 1px dashed gray;margin: 0 0.4em 0.5em 0.4em;box-sizing: border-box;padding-bottom: 0.4em;background-color: white;}#sk-container-id-5 div.sk-label label {font-family: monospace;font-weight: bold;display: inline-block;line-height: 1.2em;}#sk-container-id-5 div.sk-label-container {text-align: center;}#sk-container-id-5 div.sk-container {/* jupyter's `normalize.less` sets `[hidden] { display: none; }` but bootstrap.min.css set `[hidden] { display: none !important; }` so we also need the `!important` here to be able to override the default hidden behavior on the sphinx rendered scikit-learn.org. See: https://github.com/scikit-learn/scikit-learn/issues/21755 */display: inline-block !important;position: relative;}#sk-container-id-5 div.sk-text-repr-fallback {display: none;}</style><div id=\"sk-container-id-5\" class=\"sk-top-container\"><div class=\"sk-text-repr-fallback\"><pre>ForecastingGridSearchCV(cv=ExpandingWindowSplitter(fh=ForecastingHorizon([1, 2, 3, 4, 5, 6], dtype=&#x27;int64&#x27;, is_relative=True),\n",
       "                                                   initial_window=12),\n",
       "                        error_score=&#x27;raise&#x27;,\n",
       "                        forecaster=Permute(estimator=TransformedTargetForecaster(steps=[(&#x27;detrender&#x27;,\n",
       "                                                                                         OptionalPassthrough(transformer=Detrender())),\n",
       "                                                                                        (&#x27;deseasonalizer&#x27;,\n",
       "                                                                                         OptionalPassthrough(transformer=Deseasonalizer())),...\n",
       "                                    &#x27;estimator__scaler__passthrough&#x27;: [True,\n",
       "                                                                       False],\n",
       "                                    &#x27;estimator__scaler__transformer__transformer__with_centering&#x27;: [True,\n",
       "                                                                                                    False],\n",
       "                                    &#x27;estimator__scaler__transformer__transformer__with_scaling&#x27;: [True,\n",
       "                                                                                                  False],\n",
       "                                    &#x27;permutation&#x27;: [[&#x27;detrender&#x27;,\n",
       "                                                     &#x27;deseasonalizer&#x27;, &#x27;scaler&#x27;,\n",
       "                                                     &#x27;forecaster&#x27;],\n",
       "                                                    [&#x27;scaler&#x27;, &#x27;deseasonalizer&#x27;,\n",
       "                                                     &#x27;detrender&#x27;,\n",
       "                                                     &#x27;forecaster&#x27;]]},\n",
       "                        scoring=MeanSquaredError(square_root=True), verbose=1)</pre><b>In a Jupyter environment, please rerun this cell to show the HTML representation or trust the notebook. <br />On GitHub, the HTML representation is unable to render, please try loading this page with nbviewer.org.</b></div><div class=\"sk-container\" hidden><div class=\"sk-item sk-dashed-wrapped\"><div class=\"sk-label-container\"><div class=\"sk-label sk-toggleable\"><input class=\"sk-toggleable__control sk-hidden--visually\" id=\"sk-estimator-id-7\" type=\"checkbox\" ><label for=\"sk-estimator-id-7\" class=\"sk-toggleable__label sk-toggleable__label-arrow\">ForecastingGridSearchCV</label><div class=\"sk-toggleable__content\"><pre>ForecastingGridSearchCV(cv=ExpandingWindowSplitter(fh=ForecastingHorizon([1, 2, 3, 4, 5, 6], dtype=&#x27;int64&#x27;, is_relative=True),\n",
       "                                                   initial_window=12),\n",
       "                        error_score=&#x27;raise&#x27;,\n",
       "                        forecaster=Permute(estimator=TransformedTargetForecaster(steps=[(&#x27;detrender&#x27;,\n",
       "                                                                                         OptionalPassthrough(transformer=Detrender())),\n",
       "                                                                                        (&#x27;deseasonalizer&#x27;,\n",
       "                                                                                         OptionalPassthrough(transformer=Deseasonalizer())),...\n",
       "                                    &#x27;estimator__scaler__passthrough&#x27;: [True,\n",
       "                                                                       False],\n",
       "                                    &#x27;estimator__scaler__transformer__transformer__with_centering&#x27;: [True,\n",
       "                                                                                                    False],\n",
       "                                    &#x27;estimator__scaler__transformer__transformer__with_scaling&#x27;: [True,\n",
       "                                                                                                  False],\n",
       "                                    &#x27;permutation&#x27;: [[&#x27;detrender&#x27;,\n",
       "                                                     &#x27;deseasonalizer&#x27;, &#x27;scaler&#x27;,\n",
       "                                                     &#x27;forecaster&#x27;],\n",
       "                                                    [&#x27;scaler&#x27;, &#x27;deseasonalizer&#x27;,\n",
       "                                                     &#x27;detrender&#x27;,\n",
       "                                                     &#x27;forecaster&#x27;]]},\n",
       "                        scoring=MeanSquaredError(square_root=True), verbose=1)</pre></div></div></div><div class=\"sk-parallel\"><div class=\"sk-parallel-item\"><div class=\"sk-item\"><div class=\"sk-label-container\"><div class=\"sk-label sk-toggleable\"><input class=\"sk-toggleable__control sk-hidden--visually\" id=\"sk-estimator-id-8\" type=\"checkbox\" ><label for=\"sk-estimator-id-8\" class=\"sk-toggleable__label sk-toggleable__label-arrow\">forecaster: Permute</label><div class=\"sk-toggleable__content\"><pre>Permute(estimator=TransformedTargetForecaster(steps=[(&#x27;detrender&#x27;,\n",
       "                                                      OptionalPassthrough(transformer=Detrender())),\n",
       "                                                     (&#x27;deseasonalizer&#x27;,\n",
       "                                                      OptionalPassthrough(transformer=Deseasonalizer())),\n",
       "                                                     (&#x27;scaler&#x27;,\n",
       "                                                      OptionalPassthrough(transformer=TabularToSeriesAdaptor(transformer=RobustScaler()))),\n",
       "                                                     (&#x27;forecaster&#x27;,\n",
       "                                                      STLForecaster())]))</pre></div></div></div><div class=\"sk-serial\"><div class=\"sk-item sk-dashed-wrapped\"><div class=\"sk-parallel\"><div class=\"sk-parallel-item\"><div class=\"sk-item\"><div class=\"sk-label-container\"><div class=\"sk-label sk-toggleable\"><input class=\"sk-toggleable__control sk-hidden--visually\" id=\"sk-estimator-id-9\" type=\"checkbox\" ><label for=\"sk-estimator-id-9\" class=\"sk-toggleable__label sk-toggleable__label-arrow\">estimator: TransformedTargetForecaster</label><div class=\"sk-toggleable__content\"><pre>TransformedTargetForecaster(steps=[(&#x27;detrender&#x27;,\n",
       "                                    OptionalPassthrough(transformer=Detrender())),\n",
       "                                   (&#x27;deseasonalizer&#x27;,\n",
       "                                    OptionalPassthrough(transformer=Deseasonalizer())),\n",
       "                                   (&#x27;scaler&#x27;,\n",
       "                                    OptionalPassthrough(transformer=TabularToSeriesAdaptor(transformer=RobustScaler()))),\n",
       "                                   (&#x27;forecaster&#x27;, STLForecaster())])</pre></div></div></div><div class=\"sk-serial\"><div class=\"sk-item\"><div class=\"sk-estimator sk-toggleable\"><input class=\"sk-toggleable__control sk-hidden--visually\" id=\"sk-estimator-id-10\" type=\"checkbox\" ><label for=\"sk-estimator-id-10\" class=\"sk-toggleable__label sk-toggleable__label-arrow\">TransformedTargetForecaster</label><div class=\"sk-toggleable__content\"><pre>TransformedTargetForecaster(steps=[(&#x27;detrender&#x27;,\n",
       "                                    OptionalPassthrough(transformer=Detrender())),\n",
       "                                   (&#x27;deseasonalizer&#x27;,\n",
       "                                    OptionalPassthrough(transformer=Deseasonalizer())),\n",
       "                                   (&#x27;scaler&#x27;,\n",
       "                                    OptionalPassthrough(transformer=TabularToSeriesAdaptor(transformer=RobustScaler()))),\n",
       "                                   (&#x27;forecaster&#x27;, STLForecaster())])</pre></div></div></div></div></div></div></div></div></div></div></div></div></div></div></div>"
      ],
      "text/plain": [
       "ForecastingGridSearchCV(cv=ExpandingWindowSplitter(fh=ForecastingHorizon([1, 2, 3, 4, 5, 6], dtype='int64', is_relative=True),\n",
       "                                                   initial_window=12),\n",
       "                        error_score='raise',\n",
       "                        forecaster=Permute(estimator=TransformedTargetForecaster(steps=[('detrender',\n",
       "                                                                                         OptionalPassthrough(transformer=Detrender())),\n",
       "                                                                                        ('deseasonalizer',\n",
       "                                                                                         OptionalPassthrough(transformer=Deseasonalizer())),...\n",
       "                                    'estimator__scaler__passthrough': [True,\n",
       "                                                                       False],\n",
       "                                    'estimator__scaler__transformer__transformer__with_centering': [True,\n",
       "                                                                                                    False],\n",
       "                                    'estimator__scaler__transformer__transformer__with_scaling': [True,\n",
       "                                                                                                  False],\n",
       "                                    'permutation': [['detrender',\n",
       "                                                     'deseasonalizer', 'scaler',\n",
       "                                                     'forecaster'],\n",
       "                                                    ['scaler', 'deseasonalizer',\n",
       "                                                     'detrender',\n",
       "                                                     'forecaster']]},\n",
       "                        scoring=MeanSquaredError(square_root=True), verbose=1)"
      ]
     },
     "execution_count": 43,
     "metadata": {},
     "output_type": "execute_result"
    }
   ],
   "source": [
    "pipe_y = TransformedTargetForecaster(\n",
    "    steps=[\n",
    "        (\"detrender\", OptionalPassthrough(Detrender())),\n",
    "        (\"deseasonalizer\", OptionalPassthrough(Deseasonalizer())),\n",
    "        (\"scaler\", OptionalPassthrough(TabularToSeriesAdaptor(RobustScaler()))),\n",
    "        (\"forecaster\", STLForecaster()),\n",
    "    ]\n",
    ")\n",
    "permuted_y = Permute(estimator=pipe_y, permutation=None)\n",
    "\n",
    "param_grid = {\n",
    "    \"permutation\": [\n",
    "        [\"detrender\", \"deseasonalizer\", \"scaler\", \"forecaster\"],\n",
    "        [\"scaler\", \"deseasonalizer\", \"detrender\", \"forecaster\"],\n",
    "    ],\n",
    "    \"estimator__detrender__passthrough\": [True, False],\n",
    "    \"estimator__deseasonalizer__passthrough\": [True, False],\n",
    "    \"estimator__scaler__passthrough\": [True, False],\n",
    "    \"estimator__scaler__transformer__transformer__with_scaling\": [True, False],\n",
    "    \"estimator__scaler__transformer__transformer__with_centering\": [True, False],\n",
    "    \"estimator__forecaster__sp\": [4, 8, 12],\n",
    "}\n",
    "\n",
    "gscv = ForecastingGridSearchCV(\n",
    "    forecaster=permuted_y,\n",
    "    param_grid=param_grid,\n",
    "    cv=cv,\n",
    "    n_jobs=-1,\n",
    "    verbose=1,\n",
    "    scoring=MeanSquaredError(square_root=True),\n",
    "    error_score=\"raise\",\n",
    ")\n",
    "\n",
    "gscv.fit(y=y_train, fh=fh)"
   ]
  },
  {
   "cell_type": "code",
   "execution_count": 44,
   "metadata": {},
   "outputs": [
    {
     "data": {
      "text/plain": [
       "83.44136911735615"
      ]
     },
     "execution_count": 44,
     "metadata": {},
     "output_type": "execute_result"
    }
   ],
   "source": [
    "gscv.cv_results_[\"mean_test_MeanSquaredError\"].min()"
   ]
  },
  {
   "cell_type": "code",
   "execution_count": 45,
   "metadata": {},
   "outputs": [
    {
     "data": {
      "text/plain": [
       "125.54124792614672"
      ]
     },
     "execution_count": 45,
     "metadata": {},
     "output_type": "execute_result"
    }
   ],
   "source": [
    "gscv.cv_results_[\"mean_test_MeanSquaredError\"].max()"
   ]
  },
  {
   "cell_type": "markdown",
   "source": [
    "## 3.2 Graphical Pipeline Introduction here :)\n",
    "\n",
    "* Argumentation Avoid nesting\n",
    "* Faciliate the building of complex pipelines\n",
    "\n",
    "\n",
    "#### Definition what is a graphical Pipeline\n",
    "\n",
    "#### Potential Use-Cases\n",
    "\n",
    "#### Stuff from the Graphical Pipeline Notebook.\n",
    "### 3.2.2 Tuning graphical pipelines\n"
   ],
   "metadata": {
    "collapsed": false
   }
  },
  {
   "cell_type": "markdown",
   "source": [
    "## 3.3 Pipeline Diagnostics"
   ],
   "metadata": {
    "collapsed": false
   }
  },
  {
   "cell_type": "markdown",
   "source": [
    "## 3.4 Persisting Pipelines"
   ],
   "metadata": {
    "collapsed": false
   }
  },
  {
   "cell_type": "markdown",
   "metadata": {},
   "source": [
    "---\n",
    "\n",
    "### Credits: notebook 2 - pipelines\n",
    "\n",
    "notebook creation: aiwalter\n",
    "\n",
    "forecaster pipelines: fkiraly, aiwalter\\\n",
    "transformer pipelines & compositors: fkiraly, mloning, miraep8\\\n",
    "dunder interface: fkiraly, miraep8\\\n",
    "\n",
    "tuning, autoML: mloning, fkiraly, aiwalter\\\n",
    "CV and splitters: mloning, kkoralturk, khrapovs\\\n",
    "forecasting metrics: mloning, aiwalter, rnkuhns, fkiraly\\\n",
    "backtesting, evaluation: aiwalter, mloning, fkiraly, topher-lo"
   ]
  }
 ],
 "metadata": {
  "kernelspec": {
   "display_name": "Python 3.8.13 ('pydata22')",
   "language": "python",
   "name": "python3"
  },
  "language_info": {
   "codemirror_mode": {
    "name": "ipython",
    "version": 3
   },
   "file_extension": ".py",
   "mimetype": "text/x-python",
   "name": "python",
   "nbconvert_exporter": "python",
   "pygments_lexer": "ipython3",
   "version": "3.8.13"
  },
  "orig_nbformat": 4,
  "vscode": {
   "interpreter": {
    "hash": "e61b44dca3bf47c8973c8cd627825697e2dad493e19dd6592afda0a0a3c312a0"
   }
  }
 },
 "nbformat": 4,
 "nbformat_minor": 2
}
