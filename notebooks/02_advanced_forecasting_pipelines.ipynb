{
 "cells": [
  {
   "cell_type": "markdown",
   "metadata": {},
   "source": [
    "# 2 Advanced Forecasting Pipelines\n",
    "\n",
    "In the previous notebook, we considered\n",
    "* sequential pipelines\n",
    "* tuning their hyperparameters\n",
    "\n",
    "This notebook is about:\n",
    "* tuning the structure of sequential pipelines\n",
    "* introducing graphical pipelines\n",
    "\n",
    "\n",
    "\n"
   ]
  },
  {
   "cell_type": "code",
   "execution_count": 37,
   "metadata": {},
   "outputs": [],
   "source": [
    "import warnings\n",
    "from sklearn.linear_model import Lasso, Ridge\n",
    "from sklearn.preprocessing import StandardScaler, PowerTransformer, RobustScaler\n",
    "\n",
    "from sktime.classification.distance_based import KNeighborsTimeSeriesClassifier\n",
    "from sktime.datasets import load_arrow_head, load_longley, load_macroeconomic, load_shampoo_sales\n",
    "from sktime.forecasting.base import ForecastingHorizon\n",
    "from sktime.forecasting.compose import (\n",
    "    ColumnEnsembleForecaster,\n",
    "    ForecastX,\n",
    "    MultiplexForecaster,\n",
    "    make_reduction,\n",
    ")\n",
    "from sktime.forecasting.model_selection import (\n",
    "    ForecastingGridSearchCV,\n",
    "    SlidingWindowSplitter,\n",
    "    temporal_train_test_split,\n",
    ")\n",
    "from sktime.forecasting.compose import TransformedTargetForecaster\n",
    "from sktime.forecasting.exp_smoothing import ExponentialSmoothing\n",
    "from sktime.forecasting.naive import NaiveForecaster\n",
    "from sktime.forecasting.sarimax import SARIMAX\n",
    "from sktime.forecasting.trend import STLForecaster\n",
    "from sktime.forecasting.theta import ThetaForecaster\n",
    "\n",
    "from sktime.performance_metrics.forecasting import mean_absolute_error, MeanSquaredError\n",
    "from sktime.pipeline.pipeline import Pipeline\n",
    "from sktime.transformations.series.adapt import TabularToSeriesAdaptor\n",
    "from sktime.transformations.series.detrend import Deseasonalizer, Detrender\n",
    "from sktime.transformations.series.difference import Differencer\n",
    "from sktime.transformations.series.exponent import ExponentTransformer\n",
    "from sktime.transformations.series.subset import ColumnSelect\n",
    "warnings.filterwarnings(\"ignore\")"
   ]
  },
  {
   "cell_type": "markdown",
   "metadata": {},
   "source": [
    "## 2.1 Tuning the Pipeline's Structure (AutoML)\n",
    "\n",
    "Until now, we only optimised the hyperparameters of the single models. \n",
    "\n",
    "\n",
    "But in pipelines there are more"
   ]
  },
  {
   "cell_type": "markdown",
   "metadata": {},
   "source": [
    "### 2.1.1 Tuning the Structure of the Pipeline\n",
    "\n",
    "Pipeline structure choices influence performance\n",
    "\n",
    "`sktime` allows to expose these choices via structural compositors:\n",
    "\n",
    "* switch between transform/forecast: `MultiplexTransformer`, `MultiplexForecaster`\n",
    "* transformer on/off: `OptionalPassthrough`\n",
    "* sequence of transformers: `Permute` [Not Covered in this notebook]\n",
    "\n",
    "Combine with pipelines and `FeatureUnion` for rich structure space"
   ]
  },
  {
   "cell_type": "markdown",
   "metadata": {},
   "source": [
    "#### `MultiplexForecaster`\n",
    "`MultiplexForecaster` are swictches between multiple forecasters. It is with a parameter `selected_forecaster: List[str]` that can be tuned with a grid search.\n"
   ]
  },
  {
   "cell_type": "code",
   "execution_count": 38,
   "metadata": {},
   "outputs": [
    {
     "data": {
      "text/plain": [
       "{'selected_forecaster': 'theta'}"
      ]
     },
     "execution_count": 38,
     "metadata": {},
     "output_type": "execute_result"
    }
   ],
   "source": [
    "from sktime.forecasting.compose import MultiplexForecaster\n",
    "\n",
    "forecaster = MultiplexForecaster(\n",
    "    forecasters=[\n",
    "        (\"naive\", NaiveForecaster()),\n",
    "        (\"stl\", STLForecaster()),\n",
    "        (\"theta\", ThetaForecaster()),\n",
    "    ]\n",
    ")\n",
    "\n",
    "\n",
    "y = load_shampoo_sales()\n",
    "y_train, y_test = temporal_train_test_split(y=y, test_size=6)\n",
    "fh = ForecastingHorizon(y_test.index, is_relative=False).to_relative(\n",
    "    cutoff=y_train.index[-1]\n",
    ")\n",
    "cv = SlidingWindowSplitter(fh=fh, window_length=len(y_train) - 6)\n",
    "\n",
    "gscv = ForecastingGridSearchCV(\n",
    "    forecaster=forecaster,\n",
    "    param_grid={\"selected_forecaster\": [\"naive\", \"stl\", \"theta\"]},\n",
    "    cv=cv,\n",
    "    n_jobs=-1,\n",
    ")\n",
    "\n",
    "gscv.fit(y)\n",
    "gscv.best_params_"
   ]
  },
  {
   "cell_type": "markdown",
   "metadata": {
    "collapsed": false
   },
   "source": [
    "#### `Optional Passthrough`"
   ]
  },
  {
   "cell_type": "markdown",
   "metadata": {},
   "source": [
    "In `sktime` there is a transformer composition called `OptionalPassthrough()` which gets a transformer as an argument and a param `passthrough: bool`. Setting `passthrough=True` will return an identity transformation for the given data. Setting `passthrough=False` will apply the given inner transformer on the data."
   ]
  },
  {
   "cell_type": "code",
   "execution_count": 39,
   "metadata": {},
   "outputs": [
    {
     "data": {
      "text/plain": [
       "Period\n",
       "1991-01    266.0\n",
       "1991-02    145.9\n",
       "1991-03    183.1\n",
       "1991-04    119.3\n",
       "1991-05    180.3\n",
       "Freq: M, Name: Number of shampoo sales, dtype: float64"
      ]
     },
     "execution_count": 39,
     "metadata": {},
     "output_type": "execute_result"
    }
   ],
   "source": [
    "from sktime.transformations.compose import OptionalPassthrough\n",
    "\n",
    "transformer = OptionalPassthrough(transformer=Detrender(), passthrough=True)\n",
    "transformer.fit_transform(y_train).head()"
   ]
  },
  {
   "cell_type": "code",
   "execution_count": 40,
   "metadata": {},
   "outputs": [
    {
     "data": {
      "text/plain": [
       "Period\n",
       "1991-01    266.0\n",
       "1991-02    145.9\n",
       "1991-03    183.1\n",
       "1991-04    119.3\n",
       "1991-05    180.3\n",
       "Freq: M, Name: Number of shampoo sales, dtype: float64"
      ]
     },
     "execution_count": 40,
     "metadata": {},
     "output_type": "execute_result"
    }
   ],
   "source": [
    "y_train.head()"
   ]
  },
  {
   "cell_type": "code",
   "execution_count": 41,
   "metadata": {},
   "outputs": [
    {
     "data": {
      "text/plain": [
       "Period\n",
       "1991-01    130.376344\n",
       "1991-02      1.503263\n",
       "1991-03     29.930182\n",
       "1991-04    -42.642900\n",
       "1991-05      9.584019\n",
       "Freq: M, Name: Number of shampoo sales, dtype: float64"
      ]
     },
     "execution_count": 41,
     "metadata": {},
     "output_type": "execute_result"
    }
   ],
   "source": [
    "transformer = OptionalPassthrough(transformer=Detrender(), passthrough=False)\n",
    "transformer.fit_transform(y_train).head()"
   ]
  },
  {
   "cell_type": "markdown",
   "metadata": {},
   "source": [
    "## 2.1.2 AutoML and Forecasting\n",
    "\n",
    "Taking all incredients from above examples, we can build a forecaster that comes close to what is usually called [AutoML](https://en.wikipedia.org/wiki/Automated_machine_learning).\n",
    "With AutoML we aim to automate as many steps of an ML model creation as possible. The main compositions from `sktime` that we can use for this are:\n",
    "- `TransformedTargetForecaster`\n",
    "- `MultiplexForecaster`\n",
    "- `ForecastingGridSearchCV`\n",
    "- `OptionalPassthrough`\n",
    "- `Permute` [Not Covered in this workshop]"
   ]
  },
  {
   "cell_type": "markdown",
   "metadata": {},
   "source": [
    "### Univariate example\n",
    "Please see appendix section for an example with exogenous data"
   ]
  },
  {
   "cell_type": "code",
   "execution_count": 42,
   "metadata": {},
   "outputs": [
    {
     "name": "stdout",
     "output_type": "stream",
     "text": [
      "Fitting 1 folds for each of 96 candidates, totalling 96 fits\n"
     ]
    },
    {
     "ename": "ValueError",
     "evalue": "Multiplicative seasonality is not appropriate for zero and negative values",
     "output_type": "error",
     "traceback": [
      "\u001b[1;31m---------------------------------------------------------------------------\u001b[0m",
      "\u001b[1;31m_RemoteTraceback\u001b[0m                          Traceback (most recent call last)",
      "\u001b[1;31m_RemoteTraceback\u001b[0m: \n\"\"\"\nTraceback (most recent call last):\n  File \"c:\\Users\\bi4372\\PycharmProjects\\sktime-workshop-pydata-prague-2023\\venv\\lib\\site-packages\\joblib\\externals\\loky\\process_executor.py\", line 463, in _process_worker\n    r = call_item()\n  File \"c:\\Users\\bi4372\\PycharmProjects\\sktime-workshop-pydata-prague-2023\\venv\\lib\\site-packages\\joblib\\externals\\loky\\process_executor.py\", line 291, in __call__\n    return self.fn(*self.args, **self.kwargs)\n  File \"c:\\Users\\bi4372\\PycharmProjects\\sktime-workshop-pydata-prague-2023\\venv\\lib\\site-packages\\joblib\\parallel.py\", line 589, in __call__\n    return [func(*args, **kwargs)\n  File \"c:\\Users\\bi4372\\PycharmProjects\\sktime-workshop-pydata-prague-2023\\venv\\lib\\site-packages\\joblib\\parallel.py\", line 589, in <listcomp>\n    return [func(*args, **kwargs)\n  File \"c:\\Users\\bi4372\\PycharmProjects\\sktime-workshop-pydata-prague-2023\\venv\\lib\\site-packages\\sktime\\forecasting\\model_selection\\_tune.py\", line 213, in _fit_and_score\n    out = evaluate(\n  File \"c:\\Users\\bi4372\\PycharmProjects\\sktime-workshop-pydata-prague-2023\\venv\\lib\\site-packages\\sktime\\forecasting\\model_evaluation\\_functions.py\", line 490, in evaluate\n    result = _evaluate_window(\n  File \"c:\\Users\\bi4372\\PycharmProjects\\sktime-workshop-pydata-prague-2023\\venv\\lib\\site-packages\\sktime\\forecasting\\model_evaluation\\_functions.py\", line 172, in _evaluate_window\n    raise e\n  File \"c:\\Users\\bi4372\\PycharmProjects\\sktime-workshop-pydata-prague-2023\\venv\\lib\\site-packages\\sktime\\forecasting\\model_evaluation\\_functions.py\", line 134, in _evaluate_window\n    forecaster.fit(y=y_train, X=X_train, fh=fh)\n  File \"c:\\Users\\bi4372\\PycharmProjects\\sktime-workshop-pydata-prague-2023\\venv\\lib\\site-packages\\sktime\\forecasting\\base\\_base.py\", line 349, in fit\n    self._fit(y=y_inner, X=X_inner, fh=fh)\n  File \"c:\\Users\\bi4372\\PycharmProjects\\sktime-workshop-pydata-prague-2023\\venv\\lib\\site-packages\\sktime\\forecasting\\compose\\_pipeline.py\", line 981, in _fit\n    f.fit(y=yt, X=X, fh=fh)\n  File \"c:\\Users\\bi4372\\PycharmProjects\\sktime-workshop-pydata-prague-2023\\venv\\lib\\site-packages\\sktime\\forecasting\\base\\_base.py\", line 349, in fit\n    self._fit(y=y_inner, X=X_inner, fh=fh)\n  File \"c:\\Users\\bi4372\\PycharmProjects\\sktime-workshop-pydata-prague-2023\\venv\\lib\\site-packages\\sktime\\forecasting\\base\\_delegate.py\", line 71, in _fit\n    estimator.fit(y=y, fh=fh, X=X)\n  File \"c:\\Users\\bi4372\\PycharmProjects\\sktime-workshop-pydata-prague-2023\\venv\\lib\\site-packages\\sktime\\forecasting\\base\\_base.py\", line 349, in fit\n    self._fit(y=y_inner, X=X_inner, fh=fh)\n  File \"c:\\Users\\bi4372\\PycharmProjects\\sktime-workshop-pydata-prague-2023\\venv\\lib\\site-packages\\sktime\\forecasting\\theta.py\", line 133, in _fit\n    y = self.deseasonalizer_.fit_transform(y)\n  File \"c:\\Users\\bi4372\\PycharmProjects\\sktime-workshop-pydata-prague-2023\\venv\\lib\\site-packages\\sktime\\transformations\\base.py\", line 623, in fit_transform\n    return self.fit(X, y).transform(X, y)\n  File \"c:\\Users\\bi4372\\PycharmProjects\\sktime-workshop-pydata-prague-2023\\venv\\lib\\site-packages\\sktime\\transformations\\base.py\", line 440, in fit\n    self._fit(X=X_inner, y=y_inner)\n  File \"c:\\Users\\bi4372\\PycharmProjects\\sktime-workshop-pydata-prague-2023\\venv\\lib\\site-packages\\sktime\\transformations\\series\\detrend\\_deseasonalize.py\", line 127, in _fit\n    self.seasonal_ = seasonal_decompose(\n  File \"c:\\Users\\bi4372\\PycharmProjects\\sktime-workshop-pydata-prague-2023\\venv\\lib\\site-packages\\statsmodels\\tsa\\seasonal.py\", line 156, in seasonal_decompose\n    raise ValueError(\nValueError: Multiplicative seasonality is not appropriate for zero and negative values\n\"\"\"",
      "\nThe above exception was the direct cause of the following exception:\n",
      "\u001b[1;31mValueError\u001b[0m                                Traceback (most recent call last)",
      "\u001b[1;32mc:\\Users\\bi4372\\PycharmProjects\\sktime-workshop-pydata-prague-2023\\notebooks\\02_advanced_forecasting_pipelines.ipynb Cell 14\u001b[0m line \u001b[0;36m3\n\u001b[0;32m     <a href='vscode-notebook-cell:/c%3A/Users/bi4372/PycharmProjects/sktime-workshop-pydata-prague-2023/notebooks/02_advanced_forecasting_pipelines.ipynb#X16sZmlsZQ%3D%3D?line=13'>14</a>\u001b[0m param_grid \u001b[39m=\u001b[39m {\n\u001b[0;32m     <a href='vscode-notebook-cell:/c%3A/Users/bi4372/PycharmProjects/sktime-workshop-pydata-prague-2023/notebooks/02_advanced_forecasting_pipelines.ipynb#X16sZmlsZQ%3D%3D?line=14'>15</a>\u001b[0m     \u001b[39m\"\u001b[39m\u001b[39mdetrender__passthrough\u001b[39m\u001b[39m\"\u001b[39m: [\u001b[39mTrue\u001b[39;00m, \u001b[39mFalse\u001b[39;00m],\n\u001b[0;32m     <a href='vscode-notebook-cell:/c%3A/Users/bi4372/PycharmProjects/sktime-workshop-pydata-prague-2023/notebooks/02_advanced_forecasting_pipelines.ipynb#X16sZmlsZQ%3D%3D?line=15'>16</a>\u001b[0m     \u001b[39m\"\u001b[39m\u001b[39mdeseasonalizer__passthrough\u001b[39m\u001b[39m\"\u001b[39m: [\u001b[39mTrue\u001b[39;00m, \u001b[39mFalse\u001b[39;00m],\n\u001b[1;32m   (...)\u001b[0m\n\u001b[0;32m     <a href='vscode-notebook-cell:/c%3A/Users/bi4372/PycharmProjects/sktime-workshop-pydata-prague-2023/notebooks/02_advanced_forecasting_pipelines.ipynb#X16sZmlsZQ%3D%3D?line=19'>20</a>\u001b[0m     \u001b[39m\"\u001b[39m\u001b[39mforecaster__selected_forecaster\u001b[39m\u001b[39m\"\u001b[39m: [\u001b[39m\"\u001b[39m\u001b[39mnaive\u001b[39m\u001b[39m\"\u001b[39m, \u001b[39m\"\u001b[39m\u001b[39mstl\u001b[39m\u001b[39m\"\u001b[39m, \u001b[39m\"\u001b[39m\u001b[39mtheta\u001b[39m\u001b[39m\"\u001b[39m],\n\u001b[0;32m     <a href='vscode-notebook-cell:/c%3A/Users/bi4372/PycharmProjects/sktime-workshop-pydata-prague-2023/notebooks/02_advanced_forecasting_pipelines.ipynb#X16sZmlsZQ%3D%3D?line=20'>21</a>\u001b[0m }\n\u001b[0;32m     <a href='vscode-notebook-cell:/c%3A/Users/bi4372/PycharmProjects/sktime-workshop-pydata-prague-2023/notebooks/02_advanced_forecasting_pipelines.ipynb#X16sZmlsZQ%3D%3D?line=22'>23</a>\u001b[0m gscv \u001b[39m=\u001b[39m ForecastingGridSearchCV(\n\u001b[0;32m     <a href='vscode-notebook-cell:/c%3A/Users/bi4372/PycharmProjects/sktime-workshop-pydata-prague-2023/notebooks/02_advanced_forecasting_pipelines.ipynb#X16sZmlsZQ%3D%3D?line=23'>24</a>\u001b[0m     forecaster\u001b[39m=\u001b[39mpipe_y,\n\u001b[0;32m     <a href='vscode-notebook-cell:/c%3A/Users/bi4372/PycharmProjects/sktime-workshop-pydata-prague-2023/notebooks/02_advanced_forecasting_pipelines.ipynb#X16sZmlsZQ%3D%3D?line=24'>25</a>\u001b[0m     param_grid\u001b[39m=\u001b[39mparam_grid,\n\u001b[1;32m   (...)\u001b[0m\n\u001b[0;32m     <a href='vscode-notebook-cell:/c%3A/Users/bi4372/PycharmProjects/sktime-workshop-pydata-prague-2023/notebooks/02_advanced_forecasting_pipelines.ipynb#X16sZmlsZQ%3D%3D?line=29'>30</a>\u001b[0m     error_score\u001b[39m=\u001b[39m\u001b[39m\"\u001b[39m\u001b[39mraise\u001b[39m\u001b[39m\"\u001b[39m,\n\u001b[0;32m     <a href='vscode-notebook-cell:/c%3A/Users/bi4372/PycharmProjects/sktime-workshop-pydata-prague-2023/notebooks/02_advanced_forecasting_pipelines.ipynb#X16sZmlsZQ%3D%3D?line=30'>31</a>\u001b[0m )\n\u001b[1;32m---> <a href='vscode-notebook-cell:/c%3A/Users/bi4372/PycharmProjects/sktime-workshop-pydata-prague-2023/notebooks/02_advanced_forecasting_pipelines.ipynb#X16sZmlsZQ%3D%3D?line=32'>33</a>\u001b[0m gscv\u001b[39m.\u001b[39;49mfit(y\u001b[39m=\u001b[39;49my_train, fh\u001b[39m=\u001b[39;49mfh)\n",
      "File \u001b[1;32mc:\\Users\\bi4372\\PycharmProjects\\sktime-workshop-pydata-prague-2023\\venv\\lib\\site-packages\\sktime\\forecasting\\base\\_base.py:349\u001b[0m, in \u001b[0;36mBaseForecaster.fit\u001b[1;34m(self, y, X, fh)\u001b[0m\n\u001b[0;32m    347\u001b[0m \u001b[39m# we call the ordinary _fit if no looping/vectorization needed\u001b[39;00m\n\u001b[0;32m    348\u001b[0m \u001b[39mif\u001b[39;00m \u001b[39mnot\u001b[39;00m vectorization_needed:\n\u001b[1;32m--> 349\u001b[0m     \u001b[39mself\u001b[39;49m\u001b[39m.\u001b[39;49m_fit(y\u001b[39m=\u001b[39;49my_inner, X\u001b[39m=\u001b[39;49mX_inner, fh\u001b[39m=\u001b[39;49mfh)\n\u001b[0;32m    350\u001b[0m \u001b[39melse\u001b[39;00m:\n\u001b[0;32m    351\u001b[0m     \u001b[39m# otherwise we call the vectorized version of fit\u001b[39;00m\n\u001b[0;32m    352\u001b[0m     \u001b[39mself\u001b[39m\u001b[39m.\u001b[39m_vectorize(\u001b[39m\"\u001b[39m\u001b[39mfit\u001b[39m\u001b[39m\"\u001b[39m, y\u001b[39m=\u001b[39my_inner, X\u001b[39m=\u001b[39mX_inner, fh\u001b[39m=\u001b[39mfh)\n",
      "File \u001b[1;32mc:\\Users\\bi4372\\PycharmProjects\\sktime-workshop-pydata-prague-2023\\venv\\lib\\site-packages\\sktime\\forecasting\\model_selection\\_tune.py:262\u001b[0m, in \u001b[0;36mBaseGridSearch._fit\u001b[1;34m(self, y, X, fh)\u001b[0m\n\u001b[0;32m    259\u001b[0m     \u001b[39mreturn\u001b[39;00m out\n\u001b[0;32m    261\u001b[0m \u001b[39m# Run grid-search cross-validation.\u001b[39;00m\n\u001b[1;32m--> 262\u001b[0m results \u001b[39m=\u001b[39m \u001b[39mself\u001b[39;49m\u001b[39m.\u001b[39;49m_run_search(evaluate_candidates)\n\u001b[0;32m    264\u001b[0m results \u001b[39m=\u001b[39m pd\u001b[39m.\u001b[39mDataFrame(results)\n\u001b[0;32m    266\u001b[0m \u001b[39m# Rank results, according to whether greater is better for the given scoring.\u001b[39;00m\n",
      "File \u001b[1;32mc:\\Users\\bi4372\\PycharmProjects\\sktime-workshop-pydata-prague-2023\\venv\\lib\\site-packages\\sktime\\forecasting\\model_selection\\_tune.py:635\u001b[0m, in \u001b[0;36mForecastingGridSearchCV._run_search\u001b[1;34m(self, evaluate_candidates)\u001b[0m\n\u001b[0;32m    633\u001b[0m \u001b[39m\u001b[39m\u001b[39m\"\"\"Search all candidates in param_grid.\"\"\"\u001b[39;00m\n\u001b[0;32m    634\u001b[0m \u001b[39mself\u001b[39m\u001b[39m.\u001b[39m_check_param_grid(\u001b[39mself\u001b[39m\u001b[39m.\u001b[39mparam_grid)\n\u001b[1;32m--> 635\u001b[0m \u001b[39mreturn\u001b[39;00m evaluate_candidates(ParameterGrid(\u001b[39mself\u001b[39;49m\u001b[39m.\u001b[39;49mparam_grid))\n",
      "File \u001b[1;32mc:\\Users\\bi4372\\PycharmProjects\\sktime-workshop-pydata-prague-2023\\venv\\lib\\site-packages\\sktime\\forecasting\\model_selection\\_tune.py:248\u001b[0m, in \u001b[0;36mBaseGridSearch._fit.<locals>.evaluate_candidates\u001b[1;34m(candidate_params)\u001b[0m\n\u001b[0;32m    240\u001b[0m     n_splits \u001b[39m=\u001b[39m cv\u001b[39m.\u001b[39mget_n_splits(y)\n\u001b[0;32m    241\u001b[0m     \u001b[39mprint\u001b[39m(  \u001b[39m# noqa\u001b[39;00m\n\u001b[0;32m    242\u001b[0m         \u001b[39m\"\u001b[39m\u001b[39mFitting \u001b[39m\u001b[39m{}\u001b[39;00m\u001b[39m folds for each of \u001b[39m\u001b[39m{}\u001b[39;00m\u001b[39m candidates,\u001b[39m\u001b[39m\"\u001b[39m\n\u001b[0;32m    243\u001b[0m         \u001b[39m\"\u001b[39m\u001b[39m totalling \u001b[39m\u001b[39m{}\u001b[39;00m\u001b[39m fits\u001b[39m\u001b[39m\"\u001b[39m\u001b[39m.\u001b[39mformat(\n\u001b[0;32m    244\u001b[0m             n_splits, n_candidates, n_candidates \u001b[39m*\u001b[39m n_splits\n\u001b[0;32m    245\u001b[0m         )\n\u001b[0;32m    246\u001b[0m     )\n\u001b[1;32m--> 248\u001b[0m out \u001b[39m=\u001b[39m parallel(\n\u001b[0;32m    249\u001b[0m     delayed(_fit_and_score)(params) \u001b[39mfor\u001b[39;49;00m params \u001b[39min\u001b[39;49;00m candidate_params\n\u001b[0;32m    250\u001b[0m )\n\u001b[0;32m    252\u001b[0m \u001b[39mif\u001b[39;00m \u001b[39mlen\u001b[39m(out) \u001b[39m<\u001b[39m \u001b[39m1\u001b[39m:\n\u001b[0;32m    253\u001b[0m     \u001b[39mraise\u001b[39;00m \u001b[39mValueError\u001b[39;00m(\n\u001b[0;32m    254\u001b[0m         \u001b[39m\"\u001b[39m\u001b[39mNo fits were performed. \u001b[39m\u001b[39m\"\u001b[39m\n\u001b[0;32m    255\u001b[0m         \u001b[39m\"\u001b[39m\u001b[39mWas the CV iterator empty? \u001b[39m\u001b[39m\"\u001b[39m\n\u001b[0;32m    256\u001b[0m         \u001b[39m\"\u001b[39m\u001b[39mWere there no candidates?\u001b[39m\u001b[39m\"\u001b[39m\n\u001b[0;32m    257\u001b[0m     )\n",
      "File \u001b[1;32mc:\\Users\\bi4372\\PycharmProjects\\sktime-workshop-pydata-prague-2023\\venv\\lib\\site-packages\\joblib\\parallel.py:1952\u001b[0m, in \u001b[0;36mParallel.__call__\u001b[1;34m(self, iterable)\u001b[0m\n\u001b[0;32m   1946\u001b[0m \u001b[39m# The first item from the output is blank, but it makes the interpreter\u001b[39;00m\n\u001b[0;32m   1947\u001b[0m \u001b[39m# progress until it enters the Try/Except block of the generator and\u001b[39;00m\n\u001b[0;32m   1948\u001b[0m \u001b[39m# reach the first `yield` statement. This starts the aynchronous\u001b[39;00m\n\u001b[0;32m   1949\u001b[0m \u001b[39m# dispatch of the tasks to the workers.\u001b[39;00m\n\u001b[0;32m   1950\u001b[0m \u001b[39mnext\u001b[39m(output)\n\u001b[1;32m-> 1952\u001b[0m \u001b[39mreturn\u001b[39;00m output \u001b[39mif\u001b[39;00m \u001b[39mself\u001b[39m\u001b[39m.\u001b[39mreturn_generator \u001b[39melse\u001b[39;00m \u001b[39mlist\u001b[39;49m(output)\n",
      "File \u001b[1;32mc:\\Users\\bi4372\\PycharmProjects\\sktime-workshop-pydata-prague-2023\\venv\\lib\\site-packages\\joblib\\parallel.py:1595\u001b[0m, in \u001b[0;36mParallel._get_outputs\u001b[1;34m(self, iterator, pre_dispatch)\u001b[0m\n\u001b[0;32m   1592\u001b[0m     \u001b[39myield\u001b[39;00m\n\u001b[0;32m   1594\u001b[0m     \u001b[39mwith\u001b[39;00m \u001b[39mself\u001b[39m\u001b[39m.\u001b[39m_backend\u001b[39m.\u001b[39mretrieval_context():\n\u001b[1;32m-> 1595\u001b[0m         \u001b[39myield from\u001b[39;00m \u001b[39mself\u001b[39m\u001b[39m.\u001b[39m_retrieve()\n\u001b[0;32m   1597\u001b[0m \u001b[39mexcept\u001b[39;00m \u001b[39mGeneratorExit\u001b[39;00m:\n\u001b[0;32m   1598\u001b[0m     \u001b[39m# The generator has been garbage collected before being fully\u001b[39;00m\n\u001b[0;32m   1599\u001b[0m     \u001b[39m# consumed. This aborts the remaining tasks if possible and warn\u001b[39;00m\n\u001b[0;32m   1600\u001b[0m     \u001b[39m# the user if necessary.\u001b[39;00m\n\u001b[0;32m   1601\u001b[0m     \u001b[39mself\u001b[39m\u001b[39m.\u001b[39m_exception \u001b[39m=\u001b[39m \u001b[39mTrue\u001b[39;00m\n",
      "File \u001b[1;32mc:\\Users\\bi4372\\PycharmProjects\\sktime-workshop-pydata-prague-2023\\venv\\lib\\site-packages\\joblib\\parallel.py:1699\u001b[0m, in \u001b[0;36mParallel._retrieve\u001b[1;34m(self)\u001b[0m\n\u001b[0;32m   1692\u001b[0m \u001b[39mwhile\u001b[39;00m \u001b[39mself\u001b[39m\u001b[39m.\u001b[39m_wait_retrieval():\n\u001b[0;32m   1693\u001b[0m \n\u001b[0;32m   1694\u001b[0m     \u001b[39m# If the callback thread of a worker has signaled that its task\u001b[39;00m\n\u001b[0;32m   1695\u001b[0m     \u001b[39m# triggered an exception, or if the retrieval loop has raised an\u001b[39;00m\n\u001b[0;32m   1696\u001b[0m     \u001b[39m# exception (e.g. `GeneratorExit`), exit the loop and surface the\u001b[39;00m\n\u001b[0;32m   1697\u001b[0m     \u001b[39m# worker traceback.\u001b[39;00m\n\u001b[0;32m   1698\u001b[0m     \u001b[39mif\u001b[39;00m \u001b[39mself\u001b[39m\u001b[39m.\u001b[39m_aborting:\n\u001b[1;32m-> 1699\u001b[0m         \u001b[39mself\u001b[39;49m\u001b[39m.\u001b[39;49m_raise_error_fast()\n\u001b[0;32m   1700\u001b[0m         \u001b[39mbreak\u001b[39;00m\n\u001b[0;32m   1702\u001b[0m     \u001b[39m# If the next job is not ready for retrieval yet, we just wait for\u001b[39;00m\n\u001b[0;32m   1703\u001b[0m     \u001b[39m# async callbacks to progress.\u001b[39;00m\n",
      "File \u001b[1;32mc:\\Users\\bi4372\\PycharmProjects\\sktime-workshop-pydata-prague-2023\\venv\\lib\\site-packages\\joblib\\parallel.py:1734\u001b[0m, in \u001b[0;36mParallel._raise_error_fast\u001b[1;34m(self)\u001b[0m\n\u001b[0;32m   1730\u001b[0m \u001b[39m# If this error job exists, immediatly raise the error by\u001b[39;00m\n\u001b[0;32m   1731\u001b[0m \u001b[39m# calling get_result. This job might not exists if abort has been\u001b[39;00m\n\u001b[0;32m   1732\u001b[0m \u001b[39m# called directly or if the generator is gc'ed.\u001b[39;00m\n\u001b[0;32m   1733\u001b[0m \u001b[39mif\u001b[39;00m error_job \u001b[39mis\u001b[39;00m \u001b[39mnot\u001b[39;00m \u001b[39mNone\u001b[39;00m:\n\u001b[1;32m-> 1734\u001b[0m     error_job\u001b[39m.\u001b[39;49mget_result(\u001b[39mself\u001b[39;49m\u001b[39m.\u001b[39;49mtimeout)\n",
      "File \u001b[1;32mc:\\Users\\bi4372\\PycharmProjects\\sktime-workshop-pydata-prague-2023\\venv\\lib\\site-packages\\joblib\\parallel.py:736\u001b[0m, in \u001b[0;36mBatchCompletionCallBack.get_result\u001b[1;34m(self, timeout)\u001b[0m\n\u001b[0;32m    730\u001b[0m backend \u001b[39m=\u001b[39m \u001b[39mself\u001b[39m\u001b[39m.\u001b[39mparallel\u001b[39m.\u001b[39m_backend\n\u001b[0;32m    732\u001b[0m \u001b[39mif\u001b[39;00m backend\u001b[39m.\u001b[39msupports_retrieve_callback:\n\u001b[0;32m    733\u001b[0m     \u001b[39m# We assume that the result has already been retrieved by the\u001b[39;00m\n\u001b[0;32m    734\u001b[0m     \u001b[39m# callback thread, and is stored internally. It's just waiting to\u001b[39;00m\n\u001b[0;32m    735\u001b[0m     \u001b[39m# be returned.\u001b[39;00m\n\u001b[1;32m--> 736\u001b[0m     \u001b[39mreturn\u001b[39;00m \u001b[39mself\u001b[39;49m\u001b[39m.\u001b[39;49m_return_or_raise()\n\u001b[0;32m    738\u001b[0m \u001b[39m# For other backends, the main thread needs to run the retrieval step.\u001b[39;00m\n\u001b[0;32m    739\u001b[0m \u001b[39mtry\u001b[39;00m:\n",
      "File \u001b[1;32mc:\\Users\\bi4372\\PycharmProjects\\sktime-workshop-pydata-prague-2023\\venv\\lib\\site-packages\\joblib\\parallel.py:754\u001b[0m, in \u001b[0;36mBatchCompletionCallBack._return_or_raise\u001b[1;34m(self)\u001b[0m\n\u001b[0;32m    752\u001b[0m \u001b[39mtry\u001b[39;00m:\n\u001b[0;32m    753\u001b[0m     \u001b[39mif\u001b[39;00m \u001b[39mself\u001b[39m\u001b[39m.\u001b[39mstatus \u001b[39m==\u001b[39m TASK_ERROR:\n\u001b[1;32m--> 754\u001b[0m         \u001b[39mraise\u001b[39;00m \u001b[39mself\u001b[39m\u001b[39m.\u001b[39m_result\n\u001b[0;32m    755\u001b[0m     \u001b[39mreturn\u001b[39;00m \u001b[39mself\u001b[39m\u001b[39m.\u001b[39m_result\n\u001b[0;32m    756\u001b[0m \u001b[39mfinally\u001b[39;00m:\n",
      "\u001b[1;31mValueError\u001b[0m: Multiplicative seasonality is not appropriate for zero and negative values"
     ]
    }
   ],
   "source": [
    "pipe_y = TransformedTargetForecaster(\n",
    "    steps=[\n",
    "        (\"detrender\", OptionalPassthrough(Detrender())),\n",
    "        (\"deseasonalizer\", OptionalPassthrough(Deseasonalizer())),\n",
    "        (\"scaler\", OptionalPassthrough(TabularToSeriesAdaptor(RobustScaler()))),\n",
    "        (\"forecaster\",  MultiplexForecaster(forecasters=[\n",
    "            (\"naive\", NaiveForecaster()),\n",
    "            (\"stl\", STLForecaster()),\n",
    "            (\"theta\", ThetaForecaster(deseasonalize=False)),\n",
    "            ])),\n",
    "    ]\n",
    ")\n",
    "\n",
    "param_grid = {\n",
    "    \"detrender__passthrough\": [True, False],\n",
    "    \"deseasonalizer__passthrough\": [True, False],\n",
    "    \"scaler__passthrough\": [True, False],\n",
    "    \"scaler__transformer__transformer__with_scaling\": [True, False],\n",
    "    \"scaler__transformer__transformer__with_centering\": [True, False],\n",
    "    \"forecaster__selected_forecaster\": [\"naive\", \"stl\", \"theta\"],\n",
    "}\n",
    "\n",
    "gscv = ForecastingGridSearchCV(\n",
    "    forecaster=pipe_y,\n",
    "    param_grid=param_grid,\n",
    "    cv=cv,\n",
    "    n_jobs=-1,\n",
    "    verbose=1,\n",
    "    scoring=MeanSquaredError(square_root=True),\n",
    "    error_score=\"raise\",\n",
    ")\n",
    "\n",
    "gscv.fit(y=y_train, fh=fh)"
   ]
  },
  {
   "cell_type": "code",
   "execution_count": null,
   "metadata": {},
   "outputs": [
    {
     "data": {
      "text/plain": [
       "32.64394386511012"
      ]
     },
     "execution_count": 7,
     "metadata": {},
     "output_type": "execute_result"
    }
   ],
   "source": [
    "gscv.cv_results_[\"mean_test_MeanSquaredError\"].min()"
   ]
  },
  {
   "cell_type": "code",
   "execution_count": null,
   "metadata": {},
   "outputs": [
    {
     "data": {
      "text/plain": [
       "126.39315646030845"
      ]
     },
     "execution_count": 8,
     "metadata": {},
     "output_type": "execute_result"
    }
   ],
   "source": [
    "gscv.cv_results_[\"mean_test_MeanSquaredError\"].max()"
   ]
  },
  {
   "cell_type": "markdown",
   "metadata": {
    "collapsed": false
   },
   "source": [
    "## 3.2 Graphical Pipeline\n",
    "\n",
    "### What are Graphical Pipelines?\n",
    "Recap sequential pipelines:\n",
    "\n",
    "<img src=\"img/sequential_pipeline.png\" width=750 />\n",
    "\n",
    "Many tasks are non-sequential. To solve this two possibilities exist:\n",
    "1. Nesting Sequential Pipelines.\n",
    "2. Using Graphical Pipelines.\n",
    "\n",
    "\n",
    "Thus, there is the generalised graphial pipeline.\n",
    "* Graphical means that different steps may share the same predecessor or provide their outputs to the same successor (the dataflows can branch and merge).\n",
    "<img src=\"img/graphical_pipeline.png\" width=750 />\n",
    "\n",
    "\n",
    "* Generalised means that the pipeline can be used for multiple tasks (e.g. forecasting, classification, ...).\n",
    "\n",
    "**Note**\n",
    "\n",
    "The graphical pipeline is still experimental. Thus, this graphical should not used in production. However, we would be happy to get feedback on the graphical pipeline.\n",
    "\n",
    "\n",
    "\n",
    "### Potential Use-Cases\n",
    "There exist various potential use-case for the graphical pipeline. In the following, we focus on a forecasting and a classification pipeline.\n",
    "#### Forecasting Use-Case for Graphical Pipelines\n",
    "\n",
    "\n",
    "The input of forecasters depends on the output of other forecasters, which same the same input.\n",
    "* Forecaster could use the same preprocessing (branching of data flow)\n",
    "* Forecaster could use outputs of multiple predeccessors (merging of data flow)\n",
    "\n",
    "<img src=\"img/graphical_pipeline_example.png\" width=900 />\n",
    "\n",
    "\n",
    "#### Classification Use-Case for Graphical Pipelines\n",
    "\n",
    "\n",
    "The input of classifier are different features and not all of are observable. Idea: Use a soft sensor: I.e., a regressor for the non-observable features.\n",
    "\n",
    "<img src=\"img/graphical_pipeline_softsensor.png\" width=900 />\n",
    "\n",
    "**Note:** The current experimental state of the graphical pipeline does not fully support this use-case. However, we are working on this. If you are interested in this use-case and want to contribute, please contact us.\n",
    "\n",
    "### Credits\n",
    "The graphical pipeline was first developed by pyWATTS [1] and was then adapted for sktime. The original implementation can be found [pyWATTS](https://github.com/KIT-IAI/pyWATTS). pyWATTS is a open source library developed at the Institute of Applied Informatics and Automation at the KIT and funded by HelmholtzAI.\n",
    "\n",
    "> [1] Heidrich, Benedikt, et al. \"pyWATTS: Python workflow automation tool for time series.\" arXiv preprint arXiv:2106.10157 (2021).\n",
    "\n"
   ]
  },
  {
   "cell_type": "markdown",
   "metadata": {
    "collapsed": false
   },
   "source": [
    "### 3.2.1 Constructing simple Graphical Pipelines for Forecasting\n",
    "\n",
    "Two Ways to create graphical pipelines:\n",
    "\n",
    "1. Pass all steps to the pipeline during initialisation as for the sequential pipeline."
   ]
  },
  {
   "cell_type": "code",
   "execution_count": null,
   "metadata": {
    "collapsed": false
   },
   "outputs": [],
   "source": [
    "differencer = Differencer()\n",
    "\n",
    "general_pipeline = Pipeline(\n",
    "    [\n",
    "        {\"skobject\": differencer, \"name\": \"differencer\", \"edges\": {\"X\": \"y\"}},\n",
    "        {\n",
    "            \"skobject\": SARIMAX(),\n",
    "            \"name\": \"sarimax\",\n",
    "            \"edges\": {\"X\": \"X\", \"y\": \"differencer\"},\n",
    "        },\n",
    "        {\n",
    "            \"skobject\": differencer,\n",
    "            \"name\": \"differencer_inv\",\n",
    "            \"edges\": {\"X\": \"sarimax\"},\n",
    "            \"method\": \"inverse_transform\",\n",
    "        },\n",
    "    ]\n",
    ")"
   ]
  },
  {
   "cell_type": "markdown",
   "metadata": {
    "collapsed": false
   },
   "source": [
    "The pipeline can be visualised as follows:\n",
    "<img src=\"img/forecasting_pipeline.png\" width=750 />\n"
   ]
  },
  {
   "cell_type": "code",
   "execution_count": null,
   "metadata": {
    "collapsed": false
   },
   "outputs": [],
   "source": [
    "general_pipeline = Pipeline()\n",
    "differencer = Differencer()\n",
    "\n",
    "general_pipeline = general_pipeline.add_step(\n",
    "    differencer, \"differencer\", edges={\"X\": \"y\"}\n",
    ")\n",
    "general_pipeline = general_pipeline.add_step(\n",
    "    SARIMAX(), \"sarimax\", edges={\"X\": \"X\", \"y\": \"differencer\"}\n",
    ")\n",
    "general_pipeline = general_pipeline.add_step(\n",
    "    differencer, \"differencer_inv\", edges={\"X\": \"sarimax\"}, method=\"inverse_transform\"\n",
    ")"
   ]
  },
  {
   "cell_type": "markdown",
   "metadata": {
    "collapsed": false
   },
   "source": [
    "#### Summary of the arguments:\n",
    "The `add_step`'s parameter or key of the dicts in the step list during initialisation are:\n",
    "\n",
    "* skobject: The sktime object added to the pipeline\n",
    "* name: The name of the step\n",
    "* edges: The keys of the dictionary indicate the input of the skobject (X or y), and the values are the names of the steps that should be connected to the input argument. Note subsetting using `__` and feature union via lists are supported.\n",
    "* method: The skobject's method that should be called. If not provided, the default method would be inferred based on the added skobject. This parameter is used for the inverse_transform method. Optional.\n",
    "* kwargs: Additional keyword arguments passed to the sktime object. Optional."
   ]
  },
  {
   "cell_type": "markdown",
   "metadata": {
    "collapsed": false
   },
   "source": [
    "Fitting and predicting works as for any sktime object"
   ]
  },
  {
   "cell_type": "code",
   "execution_count": null,
   "metadata": {
    "collapsed": false
   },
   "outputs": [
    {
     "data": {
      "text/plain": [
       "1959    67213.735360\n",
       "1960    68328.076304\n",
       "1961    68737.861389\n",
       "1962    71322.894013\n",
       "Freq: A-DEC, Name: TOTEMP, dtype: float64"
      ]
     },
     "execution_count": 11,
     "metadata": {},
     "output_type": "execute_result"
    }
   ],
   "source": [
    "y, X = load_longley()\n",
    "y_train, y_test, X_train, X_test = temporal_train_test_split(y, X)\n",
    "\n",
    "general_pipeline.fit(y=y_train, X=X_train, fh=[1, 2, 3, 4])\n",
    "general_pipeline.predict(X=X_test)"
   ]
  },
  {
   "cell_type": "markdown",
   "metadata": {
    "collapsed": false
   },
   "source": [
    "### 3.2.2 Constructing Graphical Pipelines for Classification"
   ]
  },
  {
   "cell_type": "code",
   "execution_count": null,
   "metadata": {
    "collapsed": false
   },
   "outputs": [],
   "source": [
    "general_pipeline = Pipeline([\n",
    "    {\"skobject\": ExponentTransformer(), \"name\": \"exponent\", \"edges\": {\"X\": \"X\"}},\n",
    "    {\"skobject\": KNeighborsTimeSeriesClassifier(), \"name\": \"classifier\", \"edges\": {\"X\": \"exponent\", \"y\": \"y\"}},\n",
    "])"
   ]
  },
  {
   "cell_type": "markdown",
   "metadata": {
    "collapsed": false
   },
   "source": [
    "Again, also using `add_step` is possible:"
   ]
  },
  {
   "cell_type": "code",
   "execution_count": null,
   "metadata": {},
   "outputs": [],
   "source": [
    "from sktime.classification.dummy import DummyClassifier\n",
    "general_pipeline = Pipeline()\n",
    "general_pipeline = general_pipeline.add_step(\n",
    "    ExponentTransformer(), \"exponent\", edges={\"X\": \"X\"}\n",
    ")\n",
    "general_pipeline = general_pipeline.add_step(\n",
    "    KNeighborsTimeSeriesClassifier(), \"classifier\", edges={\"X\": \"exponent\", \"y\": \"y\"}\n",
    ")"
   ]
  },
  {
   "cell_type": "markdown",
   "metadata": {
    "collapsed": false
   },
   "source": [
    "This pipeline can be visualised as follows:\n",
    "\n",
    "<img src=\"img/classification_pipeline.png\" width=750 />\n"
   ]
  },
  {
   "cell_type": "code",
   "execution_count": null,
   "metadata": {
    "collapsed": false
   },
   "outputs": [
    {
     "data": {
      "text/plain": [
       "array(['0', '1', '2', '0', '1', '2', '0', '1', '2', '0', '1', '2', '0',\n",
       "       '1', '2', '0', '1', '2', '0', '1', '2', '0', '1', '2', '0', '1',\n",
       "       '2', '0', '1', '2', '0', '1', '2', '0', '1', '2'], dtype='<U1')"
      ]
     },
     "execution_count": 14,
     "metadata": {},
     "output_type": "execute_result"
    }
   ],
   "source": [
    "X, y = load_arrow_head(split=\"train\", return_X_y=True)\n",
    "general_pipeline.fit(X=X, y=y)\n",
    "general_pipeline.predict(X=X)"
   ]
  },
  {
   "cell_type": "markdown",
   "metadata": {
    "collapsed": false
   },
   "source": [
    "### 3.2.3 Becoming more complex\n",
    "The considered use-case is to forecast the inflation using forecasts of the real gross domestic product, real disposable personal income, and the unemployment rate. Furthermore the unemployment rate is forecasted using the same features except the unemployment rate itself.\n",
    "\n",
    "<img src=\"img/graphical_pipeline_example.png\" width=750 />\n",
    "\n",
    "\n",
    "The data is taken from the macrodata dataset from the statsmodels package.\n",
    "\n",
    "**Note** We stick with the `add_step` in the following.\n"
   ]
  },
  {
   "cell_type": "code",
   "execution_count": null,
   "metadata": {
    "collapsed": false
   },
   "outputs": [],
   "source": [
    "pipeline = Pipeline()\n",
    "sklearn_scaler = StandardScaler()\n",
    "sktime_scaler = TabularToSeriesAdaptor(sklearn_scaler)\n",
    "deseasonalizer = Deseasonalizer(sp=4)\n",
    "\n",
    "pipeline = pipeline.add_step(\n",
    "    sktime_scaler, name=\"scaler\", edges={\"X\": \"X__realgdp_realdpi_unemp\"}\n",
    ")\n",
    "pipeline = pipeline.add_step(\n",
    "    deseasonalizer, name=\"deseasonalizer\", edges={\"X\": \"X__realgdp_realdpi\"}\n",
    ")\n",
    "\n",
    "pipeline = pipeline.add_step(\n",
    "    MultiplexForecaster(\n",
    "        [\n",
    "            (\n",
    "                \"ridge\",\n",
    "                make_reduction(Ridge(), windows_identical=False, window_length=5),\n",
    "            ),\n",
    "            (\n",
    "                \"lasso\",\n",
    "                make_reduction(Lasso(), windows_identical=False, window_length=5),\n",
    "            ),\n",
    "        ]\n",
    "    ),\n",
    "    name=\"forecaster_gdp\",\n",
    "    edges={\"y\": \"deseasonalizer__realgdp\"},\n",
    ")\n",
    "\n",
    "pipeline = pipeline.add_step(\n",
    "    MultiplexForecaster(\n",
    "        [\n",
    "            (\n",
    "                \"ridge\",\n",
    "                make_reduction(Ridge(), windows_identical=False, window_length=5),\n",
    "            ),\n",
    "            (\n",
    "                \"lasso\",\n",
    "                make_reduction(Lasso(), windows_identical=False, window_length=5),\n",
    "            ),\n",
    "        ]\n",
    "    ),\n",
    "    name=\"forecaster_dpi\",\n",
    "    edges={\"y\": \"deseasonalizer__realdpi\"},\n",
    ")\n",
    "\n",
    "pipeline = pipeline.add_step(\n",
    "    MultiplexForecaster(\n",
    "        [\n",
    "            (\n",
    "                \"ridge\",\n",
    "                make_reduction(Ridge(), windows_identical=False, window_length=5),\n",
    "            ),\n",
    "            (\n",
    "                \"lasso\",\n",
    "                make_reduction(Lasso(), windows_identical=False, window_length=5),\n",
    "            ),\n",
    "        ]\n",
    "    ),\n",
    "    name=\"forecaster_unemp\",\n",
    "    edges={\n",
    "        \"y\": \"scaler__unemp\",\n",
    "        \"X\": [\n",
    "            \"forecaster_gdp\",\n",
    "            \"forecaster_dpi\",\n",
    "        ],\n",
    "    },\n",
    ")\n",
    "\n",
    "pipeline = pipeline.add_step(\n",
    "    MultiplexForecaster(\n",
    "        [\n",
    "            (\n",
    "                \"ridge\",\n",
    "                make_reduction(Ridge(), windows_identical=False, window_length=5),\n",
    "            ),\n",
    "            (\n",
    "                \"lasso\",\n",
    "                make_reduction(Lasso(), windows_identical=False, window_length=5),\n",
    "            ),\n",
    "        ]\n",
    "    ),\n",
    "    name=\"forecaster_inflation\",\n",
    "    edges={\"X\": [\"forecaster_dpi\", \"forecaster_unemp\"], \"y\": \"y\"},\n",
    ")"
   ]
  },
  {
   "cell_type": "code",
   "execution_count": null,
   "metadata": {
    "collapsed": false
   },
   "outputs": [
    {
     "data": {
      "text/html": [
       "<div>\n",
       "<style scoped>\n",
       "    .dataframe tbody tr th:only-of-type {\n",
       "        vertical-align: middle;\n",
       "    }\n",
       "\n",
       "    .dataframe tbody tr th {\n",
       "        vertical-align: top;\n",
       "    }\n",
       "\n",
       "    .dataframe thead th {\n",
       "        text-align: right;\n",
       "    }\n",
       "</style>\n",
       "<table border=\"1\" class=\"dataframe\">\n",
       "  <thead>\n",
       "    <tr style=\"text-align: right;\">\n",
       "      <th></th>\n",
       "      <th>realgdp</th>\n",
       "      <th>realdpi</th>\n",
       "      <th>unemp</th>\n",
       "    </tr>\n",
       "    <tr>\n",
       "      <th>Period</th>\n",
       "      <th></th>\n",
       "      <th></th>\n",
       "      <th></th>\n",
       "    </tr>\n",
       "  </thead>\n",
       "  <tbody>\n",
       "    <tr>\n",
       "      <th>1959Q1</th>\n",
       "      <td>2710.349</td>\n",
       "      <td>1886.9</td>\n",
       "      <td>5.8</td>\n",
       "    </tr>\n",
       "    <tr>\n",
       "      <th>1959Q2</th>\n",
       "      <td>2778.801</td>\n",
       "      <td>1919.7</td>\n",
       "      <td>5.1</td>\n",
       "    </tr>\n",
       "    <tr>\n",
       "      <th>1959Q3</th>\n",
       "      <td>2775.488</td>\n",
       "      <td>1916.4</td>\n",
       "      <td>5.3</td>\n",
       "    </tr>\n",
       "    <tr>\n",
       "      <th>1959Q4</th>\n",
       "      <td>2785.204</td>\n",
       "      <td>1931.3</td>\n",
       "      <td>5.6</td>\n",
       "    </tr>\n",
       "    <tr>\n",
       "      <th>1960Q1</th>\n",
       "      <td>2847.699</td>\n",
       "      <td>1955.5</td>\n",
       "      <td>5.2</td>\n",
       "    </tr>\n",
       "    <tr>\n",
       "      <th>...</th>\n",
       "      <td>...</td>\n",
       "      <td>...</td>\n",
       "      <td>...</td>\n",
       "    </tr>\n",
       "    <tr>\n",
       "      <th>2005Q3</th>\n",
       "      <td>12683.153</td>\n",
       "      <td>9308.0</td>\n",
       "      <td>5.0</td>\n",
       "    </tr>\n",
       "    <tr>\n",
       "      <th>2005Q4</th>\n",
       "      <td>12748.699</td>\n",
       "      <td>9358.7</td>\n",
       "      <td>4.9</td>\n",
       "    </tr>\n",
       "    <tr>\n",
       "      <th>2006Q1</th>\n",
       "      <td>12915.938</td>\n",
       "      <td>9533.8</td>\n",
       "      <td>4.7</td>\n",
       "    </tr>\n",
       "    <tr>\n",
       "      <th>2006Q2</th>\n",
       "      <td>12962.462</td>\n",
       "      <td>9617.3</td>\n",
       "      <td>4.7</td>\n",
       "    </tr>\n",
       "    <tr>\n",
       "      <th>2006Q3</th>\n",
       "      <td>12965.916</td>\n",
       "      <td>9662.5</td>\n",
       "      <td>4.7</td>\n",
       "    </tr>\n",
       "  </tbody>\n",
       "</table>\n",
       "<p>191 rows × 3 columns</p>\n",
       "</div>"
      ],
      "text/plain": [
       "          realgdp  realdpi  unemp\n",
       "Period                           \n",
       "1959Q1   2710.349   1886.9    5.8\n",
       "1959Q2   2778.801   1919.7    5.1\n",
       "1959Q3   2775.488   1916.4    5.3\n",
       "1959Q4   2785.204   1931.3    5.6\n",
       "1960Q1   2847.699   1955.5    5.2\n",
       "...           ...      ...    ...\n",
       "2005Q3  12683.153   9308.0    5.0\n",
       "2005Q4  12748.699   9358.7    4.9\n",
       "2006Q1  12915.938   9533.8    4.7\n",
       "2006Q2  12962.462   9617.3    4.7\n",
       "2006Q3  12965.916   9662.5    4.7\n",
       "\n",
       "[191 rows x 3 columns]"
      ]
     },
     "execution_count": 16,
     "metadata": {},
     "output_type": "execute_result"
    }
   ],
   "source": [
    "data = load_macroeconomic()\n",
    "\n",
    "X = data[[\"realgdp\", \"realdpi\", \"unemp\"]]\n",
    "y = data[[\"infl\"]]\n",
    "fh = ForecastingHorizon([1, 2, 3, 4, 5, 6, 7, 8, 9, 10, 11, 12])\n",
    "\n",
    "y_train, y_test, X_train, X_test = temporal_train_test_split(y, X=X, fh=fh)\n",
    "X_train"
   ]
  },
  {
   "cell_type": "code",
   "execution_count": null,
   "metadata": {
    "collapsed": false
   },
   "outputs": [
    {
     "data": {
      "text/html": [
       "<div>\n",
       "<style scoped>\n",
       "    .dataframe tbody tr th:only-of-type {\n",
       "        vertical-align: middle;\n",
       "    }\n",
       "\n",
       "    .dataframe tbody tr th {\n",
       "        vertical-align: top;\n",
       "    }\n",
       "\n",
       "    .dataframe thead th {\n",
       "        text-align: right;\n",
       "    }\n",
       "</style>\n",
       "<table border=\"1\" class=\"dataframe\">\n",
       "  <thead>\n",
       "    <tr style=\"text-align: right;\">\n",
       "      <th></th>\n",
       "      <th>infl</th>\n",
       "    </tr>\n",
       "    <tr>\n",
       "      <th>Period</th>\n",
       "      <th></th>\n",
       "    </tr>\n",
       "  </thead>\n",
       "  <tbody>\n",
       "    <tr>\n",
       "      <th>2006Q4</th>\n",
       "      <td>3.090428</td>\n",
       "    </tr>\n",
       "    <tr>\n",
       "      <th>2007Q1</th>\n",
       "      <td>1.676421</td>\n",
       "    </tr>\n",
       "    <tr>\n",
       "      <th>2007Q2</th>\n",
       "      <td>0.219586</td>\n",
       "    </tr>\n",
       "    <tr>\n",
       "      <th>2007Q3</th>\n",
       "      <td>1.570087</td>\n",
       "    </tr>\n",
       "    <tr>\n",
       "      <th>2007Q4</th>\n",
       "      <td>0.350137</td>\n",
       "    </tr>\n",
       "    <tr>\n",
       "      <th>2008Q1</th>\n",
       "      <td>0.438966</td>\n",
       "    </tr>\n",
       "    <tr>\n",
       "      <th>2008Q2</th>\n",
       "      <td>0.615457</td>\n",
       "    </tr>\n",
       "    <tr>\n",
       "      <th>2008Q3</th>\n",
       "      <td>0.119022</td>\n",
       "    </tr>\n",
       "    <tr>\n",
       "      <th>2008Q4</th>\n",
       "      <td>0.257887</td>\n",
       "    </tr>\n",
       "    <tr>\n",
       "      <th>2009Q1</th>\n",
       "      <td>0.129785</td>\n",
       "    </tr>\n",
       "    <tr>\n",
       "      <th>2009Q2</th>\n",
       "      <td>-0.056094</td>\n",
       "    </tr>\n",
       "    <tr>\n",
       "      <th>2009Q3</th>\n",
       "      <td>-0.066123</td>\n",
       "    </tr>\n",
       "  </tbody>\n",
       "</table>\n",
       "</div>"
      ],
      "text/plain": [
       "            infl\n",
       "Period          \n",
       "2006Q4  3.090428\n",
       "2007Q1  1.676421\n",
       "2007Q2  0.219586\n",
       "2007Q3  1.570087\n",
       "2007Q4  0.350137\n",
       "2008Q1  0.438966\n",
       "2008Q2  0.615457\n",
       "2008Q3  0.119022\n",
       "2008Q4  0.257887\n",
       "2009Q1  0.129785\n",
       "2009Q2 -0.056094\n",
       "2009Q3 -0.066123"
      ]
     },
     "execution_count": 17,
     "metadata": {},
     "output_type": "execute_result"
    }
   ],
   "source": [
    "pipeline.fit(y=y_train, X=X_train, fh=fh)\n",
    "result = pipeline.predict(X=None, fh=y_test.index)\n",
    "result"
   ]
  },
  {
   "cell_type": "markdown",
   "metadata": {
    "collapsed": false
   },
   "source": [
    "#### But what are the best hyperparameters?\n",
    "\n",
    "* which forecaster should be used for which variable -> `MultiplexForecaster`\n",
    "* what should be the hyperparameters of the forecaster\n",
    "* which features should be used for the different forecasters -> Tune the edges of the graphical pipeline!\n",
    "\n",
    "<img src=\"img/graphical_pipeline_example_grid.png\" width=900 />\n",
    "\n",
    "**Idea:** Combine graphical pipeline with ForecastingGridSearchCV.\n",
    "\n",
    "1. Specify the parameter grid:\n",
    "\n",
    "The keys of the dictionary are the parameters' in the pipeline, and the values specify which options should be tested.\n",
    "Keys have the following structure: parameter of a step `<step_name>__skobject__<parameter-name>` and input edges of a step `<step-name>__edges_<Xory>`."
   ]
  },
  {
   "cell_type": "code",
   "execution_count": null,
   "metadata": {
    "collapsed": false
   },
   "outputs": [],
   "source": [
    "param_grid = {\n",
    "    \"forecaster_inflation__skobject__selected_forecaster\": [\"ridge\", \"lasso\"],\n",
    "    \"forecaster_unemp__skobject__selected_forecaster\": [\"ridge\", \"lasso\"],\n",
    "    \"forecaster_dpi__skobject__selected_forecaster\": [\"ridge\", \"lasso\"],\n",
    "    \"forecaster_gdp__skobject__selected_forecaster\": [\"ridge\", \"lasso\"],\n",
    "    \"forecaster_inflation__edges__X\": [\n",
    "        [\"forecaster_unemp\"],\n",
    "        [\"forecaster_unemp\", \"forecaster_dpi\"],\n",
    "    ],\n",
    "    \"forecaster_unemp__edges__X\": [\n",
    "        [],\n",
    "        [\"forecaster_dpi\"],\n",
    "        [\"forecaster_gdp\", \"forecaster_dpi\"],\n",
    "    ],\n",
    "    \"deseasonalizer__edges__X\": [\"X__realgdp_realdpi\", \"scaler__realgdp_realdpi\"],\n",
    "}"
   ]
  },
  {
   "cell_type": "markdown",
   "metadata": {
    "collapsed": false
   },
   "source": [
    "Initialise the gridsearch using pipeline, cross-validation strategy, scoring, and param_grid.\n"
   ]
  },
  {
   "cell_type": "code",
   "execution_count": null,
   "metadata": {
    "collapsed": false
   },
   "outputs": [],
   "source": [
    "gridcv = ForecastingGridSearchCV(\n",
    "    pipeline,\n",
    "    cv=SlidingWindowSplitter(\n",
    "        window_length=len(X_train) - 20,\n",
    "        step_length=4,\n",
    "        fh=[1, 2, 3, 4, 5, 6, 7, 8, 9, 10, 11, 12],\n",
    "    ),\n",
    "    scoring=mean_absolute_error,\n",
    "    param_grid=param_grid,\n",
    ")"
   ]
  },
  {
   "cell_type": "markdown",
   "metadata": {
    "collapsed": false
   },
   "source": [
    "Call fit on the gridsearch object.\n"
   ]
  },
  {
   "cell_type": "code",
   "execution_count": null,
   "metadata": {
    "collapsed": false
   },
   "outputs": [
    {
     "data": {
      "text/html": [
       "<style>#sk-4e3f63f5-40c6-4121-9610-7bdd84cf7b83 {color: black;background-color: white;}#sk-4e3f63f5-40c6-4121-9610-7bdd84cf7b83 pre{padding: 0;}#sk-4e3f63f5-40c6-4121-9610-7bdd84cf7b83 div.sk-toggleable {background-color: white;}#sk-4e3f63f5-40c6-4121-9610-7bdd84cf7b83 label.sk-toggleable__label {cursor: pointer;display: block;width: 100%;margin-bottom: 0;padding: 0.3em;box-sizing: border-box;text-align: center;}#sk-4e3f63f5-40c6-4121-9610-7bdd84cf7b83 label.sk-toggleable__label-arrow:before {content: \"▸\";float: left;margin-right: 0.25em;color: #696969;}#sk-4e3f63f5-40c6-4121-9610-7bdd84cf7b83 label.sk-toggleable__label-arrow:hover:before {color: black;}#sk-4e3f63f5-40c6-4121-9610-7bdd84cf7b83 div.sk-estimator:hover label.sk-toggleable__label-arrow:before {color: black;}#sk-4e3f63f5-40c6-4121-9610-7bdd84cf7b83 div.sk-toggleable__content {max-height: 0;max-width: 0;overflow: hidden;text-align: left;background-color: #f0f8ff;}#sk-4e3f63f5-40c6-4121-9610-7bdd84cf7b83 div.sk-toggleable__content pre {margin: 0.2em;color: black;border-radius: 0.25em;background-color: #f0f8ff;}#sk-4e3f63f5-40c6-4121-9610-7bdd84cf7b83 input.sk-toggleable__control:checked~div.sk-toggleable__content {max-height: 200px;max-width: 100%;overflow: auto;}#sk-4e3f63f5-40c6-4121-9610-7bdd84cf7b83 input.sk-toggleable__control:checked~label.sk-toggleable__label-arrow:before {content: \"▾\";}#sk-4e3f63f5-40c6-4121-9610-7bdd84cf7b83 div.sk-estimator input.sk-toggleable__control:checked~label.sk-toggleable__label {background-color: #d4ebff;}#sk-4e3f63f5-40c6-4121-9610-7bdd84cf7b83 div.sk-label input.sk-toggleable__control:checked~label.sk-toggleable__label {background-color: #d4ebff;}#sk-4e3f63f5-40c6-4121-9610-7bdd84cf7b83 input.sk-hidden--visually {border: 0;clip: rect(1px 1px 1px 1px);clip: rect(1px, 1px, 1px, 1px);height: 1px;margin: -1px;overflow: hidden;padding: 0;position: absolute;width: 1px;}#sk-4e3f63f5-40c6-4121-9610-7bdd84cf7b83 div.sk-estimator {font-family: monospace;background-color: #f0f8ff;border: 1px dotted black;border-radius: 0.25em;box-sizing: border-box;margin-bottom: 0.5em;}#sk-4e3f63f5-40c6-4121-9610-7bdd84cf7b83 div.sk-estimator:hover {background-color: #d4ebff;}#sk-4e3f63f5-40c6-4121-9610-7bdd84cf7b83 div.sk-parallel-item::after {content: \"\";width: 100%;border-bottom: 1px solid gray;flex-grow: 1;}#sk-4e3f63f5-40c6-4121-9610-7bdd84cf7b83 div.sk-label:hover label.sk-toggleable__label {background-color: #d4ebff;}#sk-4e3f63f5-40c6-4121-9610-7bdd84cf7b83 div.sk-serial::before {content: \"\";position: absolute;border-left: 1px solid gray;box-sizing: border-box;top: 2em;bottom: 0;left: 50%;}#sk-4e3f63f5-40c6-4121-9610-7bdd84cf7b83 div.sk-serial {display: flex;flex-direction: column;align-items: center;background-color: white;padding-right: 0.2em;padding-left: 0.2em;}#sk-4e3f63f5-40c6-4121-9610-7bdd84cf7b83 div.sk-item {z-index: 1;}#sk-4e3f63f5-40c6-4121-9610-7bdd84cf7b83 div.sk-parallel {display: flex;align-items: stretch;justify-content: center;background-color: white;}#sk-4e3f63f5-40c6-4121-9610-7bdd84cf7b83 div.sk-parallel::before {content: \"\";position: absolute;border-left: 1px solid gray;box-sizing: border-box;top: 2em;bottom: 0;left: 50%;}#sk-4e3f63f5-40c6-4121-9610-7bdd84cf7b83 div.sk-parallel-item {display: flex;flex-direction: column;position: relative;background-color: white;}#sk-4e3f63f5-40c6-4121-9610-7bdd84cf7b83 div.sk-parallel-item:first-child::after {align-self: flex-end;width: 50%;}#sk-4e3f63f5-40c6-4121-9610-7bdd84cf7b83 div.sk-parallel-item:last-child::after {align-self: flex-start;width: 50%;}#sk-4e3f63f5-40c6-4121-9610-7bdd84cf7b83 div.sk-parallel-item:only-child::after {width: 0;}#sk-4e3f63f5-40c6-4121-9610-7bdd84cf7b83 div.sk-dashed-wrapped {border: 1px dashed gray;margin: 0 0.4em 0.5em 0.4em;box-sizing: border-box;padding-bottom: 0.4em;background-color: white;position: relative;}#sk-4e3f63f5-40c6-4121-9610-7bdd84cf7b83 div.sk-label label {font-family: monospace;font-weight: bold;background-color: white;display: inline-block;line-height: 1.2em;}#sk-4e3f63f5-40c6-4121-9610-7bdd84cf7b83 div.sk-label-container {position: relative;z-index: 2;text-align: center;}#sk-4e3f63f5-40c6-4121-9610-7bdd84cf7b83 div.sk-container {/* jupyter's `normalize.less` sets `[hidden] { display: none; }` but bootstrap.min.css set `[hidden] { display: none !important; }` so we also need the `!important` here to be able to override the default hidden behavior on the sphinx rendered scikit-learn.org. See: https://github.com/scikit-learn/scikit-learn/issues/21755 */display: inline-block !important;position: relative;}#sk-4e3f63f5-40c6-4121-9610-7bdd84cf7b83 div.sk-text-repr-fallback {display: none;}</style><div id='sk-4e3f63f5-40c6-4121-9610-7bdd84cf7b83' class=\"sk-top-container\"><div class=\"sk-text-repr-fallback\"><pre>ForecastingGridSearchCV(cv=SlidingWindowSplitter(fh=[1, 2, 3, 4, 5, 6, 7, 8, 9,\n",
       "                                                     10, 11, 12],\n",
       "                                                 step_length=4,\n",
       "                                                 window_length=171),\n",
       "                        forecaster=Pipeline(steps=[{&#x27;edges&#x27;: {&#x27;X&#x27;: &#x27;X__realgdp_realdpi_unemp&#x27;},\n",
       "                                                    &#x27;kwargs&#x27;: {},\n",
       "                                                    &#x27;method&#x27;: None,\n",
       "                                                    &#x27;name&#x27;: &#x27;scaler&#x27;,\n",
       "                                                    &#x27;skobject&#x27;: TabularToSeriesAdaptor(transformer=StandardScaler())},\n",
       "                                                   {&#x27;edges&#x27;: {&#x27;X&#x27;: &#x27;X__realgdp_realdpi&#x27;},\n",
       "                                                    &#x27;kwargs&#x27;: {},\n",
       "                                                    &#x27;method&#x27;: Non...\n",
       "                                    &#x27;forecaster_inflation__edges__X&#x27;: [[&#x27;forecaster_unemp&#x27;],\n",
       "                                                                       [&#x27;forecaster_unemp&#x27;,\n",
       "                                                                        &#x27;forecaster_dpi&#x27;]],\n",
       "                                    &#x27;forecaster_inflation__skobject__selected_forecaster&#x27;: [&#x27;ridge&#x27;,\n",
       "                                                                                            &#x27;lasso&#x27;],\n",
       "                                    &#x27;forecaster_unemp__edges__X&#x27;: [[],\n",
       "                                                                   [&#x27;forecaster_dpi&#x27;],\n",
       "                                                                   [&#x27;forecaster_gdp&#x27;,\n",
       "                                                                    &#x27;forecaster_dpi&#x27;]],\n",
       "                                    &#x27;forecaster_unemp__skobject__selected_forecaster&#x27;: [&#x27;ridge&#x27;,\n",
       "                                                                                        &#x27;lasso&#x27;]},\n",
       "                        scoring=&lt;function mean_absolute_error at 0x0000021CE44B6790&gt;)</pre><b>Please rerun this cell to show the HTML repr or trust the notebook.</b></div><div class=\"sk-container\" hidden><div class=\"sk-item sk-dashed-wrapped\"><div class='sk-label-container'><div class=\"sk-label sk-toggleable\"><input class=\"sk-toggleable__control sk-hidden--visually\" id=UUID('8975723d-b30f-421a-83b7-242b702d3842') type=\"checkbox\" ><label for=UUID('8975723d-b30f-421a-83b7-242b702d3842') class='sk-toggleable__label sk-toggleable__label-arrow'>ForecastingGridSearchCV</label><div class=\"sk-toggleable__content\"><pre>ForecastingGridSearchCV(cv=SlidingWindowSplitter(fh=[1, 2, 3, 4, 5, 6, 7, 8, 9,\n",
       "                                                     10, 11, 12],\n",
       "                                                 step_length=4,\n",
       "                                                 window_length=171),\n",
       "                        forecaster=Pipeline(steps=[{&#x27;edges&#x27;: {&#x27;X&#x27;: &#x27;X__realgdp_realdpi_unemp&#x27;},\n",
       "                                                    &#x27;kwargs&#x27;: {},\n",
       "                                                    &#x27;method&#x27;: None,\n",
       "                                                    &#x27;name&#x27;: &#x27;scaler&#x27;,\n",
       "                                                    &#x27;skobject&#x27;: TabularToSeriesAdaptor(transformer=StandardScaler())},\n",
       "                                                   {&#x27;edges&#x27;: {&#x27;X&#x27;: &#x27;X__realgdp_realdpi&#x27;},\n",
       "                                                    &#x27;kwargs&#x27;: {},\n",
       "                                                    &#x27;method&#x27;: Non...\n",
       "                                    &#x27;forecaster_inflation__edges__X&#x27;: [[&#x27;forecaster_unemp&#x27;],\n",
       "                                                                       [&#x27;forecaster_unemp&#x27;,\n",
       "                                                                        &#x27;forecaster_dpi&#x27;]],\n",
       "                                    &#x27;forecaster_inflation__skobject__selected_forecaster&#x27;: [&#x27;ridge&#x27;,\n",
       "                                                                                            &#x27;lasso&#x27;],\n",
       "                                    &#x27;forecaster_unemp__edges__X&#x27;: [[],\n",
       "                                                                   [&#x27;forecaster_dpi&#x27;],\n",
       "                                                                   [&#x27;forecaster_gdp&#x27;,\n",
       "                                                                    &#x27;forecaster_dpi&#x27;]],\n",
       "                                    &#x27;forecaster_unemp__skobject__selected_forecaster&#x27;: [&#x27;ridge&#x27;,\n",
       "                                                                                        &#x27;lasso&#x27;]},\n",
       "                        scoring=&lt;function mean_absolute_error at 0x0000021CE44B6790&gt;)</pre></div></div></div><div class=\"sk-parallel\"><div class=\"sk-parallel-item\"><div class=\"sk-item\"><div class=\"sk-serial\"><div class='sk-item'><div class=\"sk-estimator sk-toggleable\"><input class=\"sk-toggleable__control sk-hidden--visually\" id=UUID('bd8d97bc-f802-4914-9446-608848a8f990') type=\"checkbox\" ><label for=UUID('bd8d97bc-f802-4914-9446-608848a8f990') class='sk-toggleable__label sk-toggleable__label-arrow'>SlidingWindowSplitter</label><div class=\"sk-toggleable__content\"><pre>SlidingWindowSplitter(fh=[1, 2, 3, 4, 5, 6, 7, 8, 9, 10, 11, 12], step_length=4,\n",
       "                      window_length=171)</pre></div></div></div></div></div></div><div class=\"sk-parallel-item\"><div class=\"sk-item\"><div class=\"sk-serial\"><div class='sk-item'><div class=\"sk-estimator sk-toggleable\"><input class=\"sk-toggleable__control sk-hidden--visually\" id=UUID('ffa7efbc-73f0-4170-9f62-7b71883c86b0') type=\"checkbox\" ><label for=UUID('ffa7efbc-73f0-4170-9f62-7b71883c86b0') class='sk-toggleable__label sk-toggleable__label-arrow'>Pipeline</label><div class=\"sk-toggleable__content\"><pre>Pipeline(steps=[{&#x27;edges&#x27;: {&#x27;X&#x27;: &#x27;X__realgdp_realdpi_unemp&#x27;}, &#x27;kwargs&#x27;: {},\n",
       "                 &#x27;method&#x27;: None, &#x27;name&#x27;: &#x27;scaler&#x27;,\n",
       "                 &#x27;skobject&#x27;: TabularToSeriesAdaptor(transformer=StandardScaler())},\n",
       "                {&#x27;edges&#x27;: {&#x27;X&#x27;: &#x27;X__realgdp_realdpi&#x27;}, &#x27;kwargs&#x27;: {},\n",
       "                 &#x27;method&#x27;: None, &#x27;name&#x27;: &#x27;deseasonalizer&#x27;,\n",
       "                 &#x27;skobject&#x27;: Deseasonalizer(sp=4)},\n",
       "                {&#x27;edges&#x27;: {&#x27;y&#x27;: &#x27;deseasonalizer__realgdp&#x27;}, &#x27;kwargs&#x27;: {},\n",
       "                 &#x27;method&#x27;: None...\n",
       "                                                                                                    window_length=5))])},\n",
       "                {&#x27;edges&#x27;: {&#x27;X&#x27;: [&#x27;forecaster_dpi&#x27;, &#x27;forecaster_unemp&#x27;],\n",
       "                           &#x27;y&#x27;: &#x27;y&#x27;},\n",
       "                 &#x27;kwargs&#x27;: {}, &#x27;method&#x27;: None, &#x27;name&#x27;: &#x27;forecaster_inflation&#x27;,\n",
       "                 &#x27;skobject&#x27;: MultiplexForecaster(forecasters=[(&#x27;ridge&#x27;,\n",
       "                                                               RecursiveTabularRegressionForecaster(estimator=Ridge(),\n",
       "                                                                                                    window_length=5)),\n",
       "                                                              (&#x27;lasso&#x27;,\n",
       "                                                               RecursiveTabularRegressionForecaster(estimator=Lasso(),\n",
       "                                                                                                    window_length=5))])}])</pre></div></div></div></div></div></div></div></div></div></div>"
      ],
      "text/plain": [
       "ForecastingGridSearchCV(cv=SlidingWindowSplitter(fh=[1, 2, 3, 4, 5, 6, 7, 8, 9,\n",
       "                                                     10, 11, 12],\n",
       "                                                 step_length=4,\n",
       "                                                 window_length=171),\n",
       "                        forecaster=Pipeline(steps=[{'edges': {'X': 'X__realgdp_realdpi_unemp'},\n",
       "                                                    'kwargs': {},\n",
       "                                                    'method': None,\n",
       "                                                    'name': 'scaler',\n",
       "                                                    'skobject': TabularToSeriesAdaptor(transformer=StandardScaler())},\n",
       "                                                   {'edges': {'X': 'X__realgdp_realdpi'},\n",
       "                                                    'kwargs': {},\n",
       "                                                    'method': Non...\n",
       "                                    'forecaster_inflation__edges__X': [['forecaster_unemp'],\n",
       "                                                                       ['forecaster_unemp',\n",
       "                                                                        'forecaster_dpi']],\n",
       "                                    'forecaster_inflation__skobject__selected_forecaster': ['ridge',\n",
       "                                                                                            'lasso'],\n",
       "                                    'forecaster_unemp__edges__X': [[],\n",
       "                                                                   ['forecaster_dpi'],\n",
       "                                                                   ['forecaster_gdp',\n",
       "                                                                    'forecaster_dpi']],\n",
       "                                    'forecaster_unemp__skobject__selected_forecaster': ['ridge',\n",
       "                                                                                        'lasso']},\n",
       "                        scoring=<function mean_absolute_error at 0x0000021CE44B6790>)"
      ]
     },
     "execution_count": 20,
     "metadata": {},
     "output_type": "execute_result"
    }
   ],
   "source": [
    "gridcv.fit(y=y_train, X=X_train)"
   ]
  },
  {
   "cell_type": "code",
   "execution_count": null,
   "metadata": {
    "collapsed": false
   },
   "outputs": [
    {
     "data": {
      "text/html": [
       "<div>\n",
       "<style scoped>\n",
       "    .dataframe tbody tr th:only-of-type {\n",
       "        vertical-align: middle;\n",
       "    }\n",
       "\n",
       "    .dataframe tbody tr th {\n",
       "        vertical-align: top;\n",
       "    }\n",
       "\n",
       "    .dataframe thead th {\n",
       "        text-align: right;\n",
       "    }\n",
       "</style>\n",
       "<table border=\"1\" class=\"dataframe\">\n",
       "  <thead>\n",
       "    <tr style=\"text-align: right;\">\n",
       "      <th></th>\n",
       "      <th>mean_test__DynamicForecastingErrorMetric</th>\n",
       "      <th>mean_fit_time</th>\n",
       "      <th>mean_pred_time</th>\n",
       "      <th>params</th>\n",
       "      <th>rank_test__DynamicForecastingErrorMetric</th>\n",
       "    </tr>\n",
       "  </thead>\n",
       "  <tbody>\n",
       "    <tr>\n",
       "      <th>0</th>\n",
       "      <td>1.539329</td>\n",
       "      <td>0.071217</td>\n",
       "      <td>0.029853</td>\n",
       "      <td>{'deseasonalizer__edges__X': 'X__realgdp_reald...</td>\n",
       "      <td>107.5</td>\n",
       "    </tr>\n",
       "    <tr>\n",
       "      <th>1</th>\n",
       "      <td>1.720565</td>\n",
       "      <td>0.051228</td>\n",
       "      <td>0.025160</td>\n",
       "      <td>{'deseasonalizer__edges__X': 'X__realgdp_reald...</td>\n",
       "      <td>119.5</td>\n",
       "    </tr>\n",
       "    <tr>\n",
       "      <th>2</th>\n",
       "      <td>1.394329</td>\n",
       "      <td>0.101699</td>\n",
       "      <td>0.048946</td>\n",
       "      <td>{'deseasonalizer__edges__X': 'X__realgdp_reald...</td>\n",
       "      <td>97.5</td>\n",
       "    </tr>\n",
       "    <tr>\n",
       "      <th>3</th>\n",
       "      <td>1.942051</td>\n",
       "      <td>0.084846</td>\n",
       "      <td>0.040124</td>\n",
       "      <td>{'deseasonalizer__edges__X': 'X__realgdp_reald...</td>\n",
       "      <td>129.5</td>\n",
       "    </tr>\n",
       "    <tr>\n",
       "      <th>4</th>\n",
       "      <td>2.033714</td>\n",
       "      <td>0.099373</td>\n",
       "      <td>0.054658</td>\n",
       "      <td>{'deseasonalizer__edges__X': 'X__realgdp_reald...</td>\n",
       "      <td>136.0</td>\n",
       "    </tr>\n",
       "    <tr>\n",
       "      <th>...</th>\n",
       "      <td>...</td>\n",
       "      <td>...</td>\n",
       "      <td>...</td>\n",
       "      <td>...</td>\n",
       "      <td>...</td>\n",
       "    </tr>\n",
       "    <tr>\n",
       "      <th>187</th>\n",
       "      <td>1.329079</td>\n",
       "      <td>0.094997</td>\n",
       "      <td>0.045596</td>\n",
       "      <td>{'deseasonalizer__edges__X': 'scaler__realgdp_...</td>\n",
       "      <td>48.5</td>\n",
       "    </tr>\n",
       "    <tr>\n",
       "      <th>188</th>\n",
       "      <td>1.329079</td>\n",
       "      <td>0.102975</td>\n",
       "      <td>0.057973</td>\n",
       "      <td>{'deseasonalizer__edges__X': 'scaler__realgdp_...</td>\n",
       "      <td>48.5</td>\n",
       "    </tr>\n",
       "    <tr>\n",
       "      <th>189</th>\n",
       "      <td>1.329079</td>\n",
       "      <td>0.101259</td>\n",
       "      <td>0.050322</td>\n",
       "      <td>{'deseasonalizer__edges__X': 'scaler__realgdp_...</td>\n",
       "      <td>48.5</td>\n",
       "    </tr>\n",
       "    <tr>\n",
       "      <th>190</th>\n",
       "      <td>1.329079</td>\n",
       "      <td>0.144438</td>\n",
       "      <td>0.072661</td>\n",
       "      <td>{'deseasonalizer__edges__X': 'scaler__realgdp_...</td>\n",
       "      <td>48.5</td>\n",
       "    </tr>\n",
       "    <tr>\n",
       "      <th>191</th>\n",
       "      <td>1.329079</td>\n",
       "      <td>0.106775</td>\n",
       "      <td>0.059538</td>\n",
       "      <td>{'deseasonalizer__edges__X': 'scaler__realgdp_...</td>\n",
       "      <td>48.5</td>\n",
       "    </tr>\n",
       "  </tbody>\n",
       "</table>\n",
       "<p>192 rows × 5 columns</p>\n",
       "</div>"
      ],
      "text/plain": [
       "     mean_test__DynamicForecastingErrorMetric  mean_fit_time  mean_pred_time  \\\n",
       "0                                    1.539329       0.071217        0.029853   \n",
       "1                                    1.720565       0.051228        0.025160   \n",
       "2                                    1.394329       0.101699        0.048946   \n",
       "3                                    1.942051       0.084846        0.040124   \n",
       "4                                    2.033714       0.099373        0.054658   \n",
       "..                                        ...            ...             ...   \n",
       "187                                  1.329079       0.094997        0.045596   \n",
       "188                                  1.329079       0.102975        0.057973   \n",
       "189                                  1.329079       0.101259        0.050322   \n",
       "190                                  1.329079       0.144438        0.072661   \n",
       "191                                  1.329079       0.106775        0.059538   \n",
       "\n",
       "                                                params  \\\n",
       "0    {'deseasonalizer__edges__X': 'X__realgdp_reald...   \n",
       "1    {'deseasonalizer__edges__X': 'X__realgdp_reald...   \n",
       "2    {'deseasonalizer__edges__X': 'X__realgdp_reald...   \n",
       "3    {'deseasonalizer__edges__X': 'X__realgdp_reald...   \n",
       "4    {'deseasonalizer__edges__X': 'X__realgdp_reald...   \n",
       "..                                                 ...   \n",
       "187  {'deseasonalizer__edges__X': 'scaler__realgdp_...   \n",
       "188  {'deseasonalizer__edges__X': 'scaler__realgdp_...   \n",
       "189  {'deseasonalizer__edges__X': 'scaler__realgdp_...   \n",
       "190  {'deseasonalizer__edges__X': 'scaler__realgdp_...   \n",
       "191  {'deseasonalizer__edges__X': 'scaler__realgdp_...   \n",
       "\n",
       "     rank_test__DynamicForecastingErrorMetric  \n",
       "0                                       107.5  \n",
       "1                                       119.5  \n",
       "2                                        97.5  \n",
       "3                                       129.5  \n",
       "4                                       136.0  \n",
       "..                                        ...  \n",
       "187                                      48.5  \n",
       "188                                      48.5  \n",
       "189                                      48.5  \n",
       "190                                      48.5  \n",
       "191                                      48.5  \n",
       "\n",
       "[192 rows x 5 columns]"
      ]
     },
     "execution_count": 21,
     "metadata": {},
     "output_type": "execute_result"
    }
   ],
   "source": [
    "gridcv.cv_results_"
   ]
  },
  {
   "cell_type": "code",
   "execution_count": null,
   "metadata": {
    "collapsed": false
   },
   "outputs": [
    {
     "data": {
      "text/plain": [
       "{'deseasonalizer__edges__X': 'X__realgdp_realdpi',\n",
       " 'forecaster_dpi__skobject__selected_forecaster': 'ridge',\n",
       " 'forecaster_gdp__skobject__selected_forecaster': 'ridge',\n",
       " 'forecaster_inflation__edges__X': ['forecaster_unemp', 'forecaster_dpi'],\n",
       " 'forecaster_inflation__skobject__selected_forecaster': 'lasso',\n",
       " 'forecaster_unemp__edges__X': [],\n",
       " 'forecaster_unemp__skobject__selected_forecaster': 'ridge'}"
      ]
     },
     "execution_count": 22,
     "metadata": {},
     "output_type": "execute_result"
    }
   ],
   "source": [
    "gridcv.best_params_"
   ]
  },
  {
   "cell_type": "code",
   "execution_count": null,
   "metadata": {
    "collapsed": false
   },
   "outputs": [
    {
     "data": {
      "text/html": [
       "<div>\n",
       "<style scoped>\n",
       "    .dataframe tbody tr th:only-of-type {\n",
       "        vertical-align: middle;\n",
       "    }\n",
       "\n",
       "    .dataframe tbody tr th {\n",
       "        vertical-align: top;\n",
       "    }\n",
       "\n",
       "    .dataframe thead th {\n",
       "        text-align: right;\n",
       "    }\n",
       "</style>\n",
       "<table border=\"1\" class=\"dataframe\">\n",
       "  <thead>\n",
       "    <tr style=\"text-align: right;\">\n",
       "      <th></th>\n",
       "      <th>infl</th>\n",
       "    </tr>\n",
       "    <tr>\n",
       "      <th>Period</th>\n",
       "      <th></th>\n",
       "    </tr>\n",
       "  </thead>\n",
       "  <tbody>\n",
       "    <tr>\n",
       "      <th>2006Q4</th>\n",
       "      <td>2.188182</td>\n",
       "    </tr>\n",
       "    <tr>\n",
       "      <th>2007Q1</th>\n",
       "      <td>2.124281</td>\n",
       "    </tr>\n",
       "    <tr>\n",
       "      <th>2007Q2</th>\n",
       "      <td>1.045280</td>\n",
       "    </tr>\n",
       "    <tr>\n",
       "      <th>2007Q3</th>\n",
       "      <td>1.857716</td>\n",
       "    </tr>\n",
       "    <tr>\n",
       "      <th>2007Q4</th>\n",
       "      <td>1.790664</td>\n",
       "    </tr>\n",
       "    <tr>\n",
       "      <th>2008Q1</th>\n",
       "      <td>1.649457</td>\n",
       "    </tr>\n",
       "    <tr>\n",
       "      <th>2008Q2</th>\n",
       "      <td>1.874361</td>\n",
       "    </tr>\n",
       "    <tr>\n",
       "      <th>2008Q3</th>\n",
       "      <td>1.855627</td>\n",
       "    </tr>\n",
       "    <tr>\n",
       "      <th>2008Q4</th>\n",
       "      <td>1.858207</td>\n",
       "    </tr>\n",
       "    <tr>\n",
       "      <th>2009Q1</th>\n",
       "      <td>1.909693</td>\n",
       "    </tr>\n",
       "    <tr>\n",
       "      <th>2009Q2</th>\n",
       "      <td>1.905106</td>\n",
       "    </tr>\n",
       "    <tr>\n",
       "      <th>2009Q3</th>\n",
       "      <td>1.910452</td>\n",
       "    </tr>\n",
       "  </tbody>\n",
       "</table>\n",
       "</div>"
      ],
      "text/plain": [
       "            infl\n",
       "Period          \n",
       "2006Q4  2.188182\n",
       "2007Q1  2.124281\n",
       "2007Q2  1.045280\n",
       "2007Q3  1.857716\n",
       "2007Q4  1.790664\n",
       "2008Q1  1.649457\n",
       "2008Q2  1.874361\n",
       "2008Q3  1.855627\n",
       "2008Q4  1.858207\n",
       "2009Q1  1.909693\n",
       "2009Q2  1.905106\n",
       "2009Q3  1.910452"
      ]
     },
     "execution_count": 23,
     "metadata": {},
     "output_type": "execute_result"
    }
   ],
   "source": [
    "result = gridcv.predict(X=None, fh=y_test.index)\n",
    "result"
   ]
  },
  {
   "cell_type": "markdown",
   "metadata": {
    "collapsed": false
   },
   "source": [
    "### How does the graphical pipeline compare to the sequential pipeline?\n",
    "\n",
    "Let us try to implement a simplified version of the above example using sequential pipelines with nesting.\n",
    "\n",
    "<img src=\"img/graphical_pipeline_simplified.png\" width=900 />\n"
   ]
  },
  {
   "cell_type": "markdown",
   "metadata": {
    "collapsed": false
   },
   "source": [
    "Create sequential pipelines for forecasting the GDP, DPI and unemployment rate.\n"
   ]
  },
  {
   "cell_type": "code",
   "execution_count": null,
   "metadata": {
    "collapsed": false
   },
   "outputs": [],
   "source": [
    "forecasting_pipeline_gdp = (\n",
    "    ColumnSelect([\"realgdp\"])  # To train the forecaster only on the realgdp column\n",
    "    * Deseasonalizer()\n",
    "    * MultiplexForecaster(\n",
    "        [\n",
    "            (\n",
    "                \"ridge\",\n",
    "                make_reduction(Ridge(), windows_identical=False, window_length=5),\n",
    "            ),\n",
    "            (\n",
    "                \"lasso\",\n",
    "                make_reduction(Lasso(), windows_identical=False, window_length=5),\n",
    "            ),\n",
    "        ]\n",
    "    )\n",
    ")\n",
    "forecasting_pipeline_dpi = (\n",
    "    ColumnSelect([\"realdpi\"])\n",
    "    * Deseasonalizer()\n",
    "    * MultiplexForecaster(\n",
    "        [\n",
    "            (\n",
    "                \"ridge\",\n",
    "                make_reduction(Ridge(), windows_identical=False, window_length=5),\n",
    "            ),\n",
    "            (\n",
    "                \"lasso\",\n",
    "                make_reduction(Lasso(), windows_identical=False, window_length=5),\n",
    "            ),\n",
    "        ]\n",
    "    )\n",
    ")\n",
    "\n",
    "forecasting_pipeline_unemp = (\n",
    "    ColumnSelect([\"unemp\"])\n",
    "    * Deseasonalizer()\n",
    "    * MultiplexForecaster(\n",
    "        [\n",
    "            (\n",
    "                \"ridge\",\n",
    "                make_reduction(Ridge(), windows_identical=False, window_length=5),\n",
    "            ),\n",
    "            (\n",
    "                \"lasso\",\n",
    "                make_reduction(Lasso(), windows_identical=False, window_length=5),\n",
    "            ),\n",
    "        ]\n",
    "    )\n",
    ")"
   ]
  },
  {
   "cell_type": "markdown",
   "metadata": {
    "collapsed": false
   },
   "source": [
    "Use ColunmEnsembleForecaster to combine the forecasts of the DPI, GDP, UNEMP. (Union of forecasts)"
   ]
  },
  {
   "cell_type": "code",
   "execution_count": null,
   "metadata": {
    "collapsed": false
   },
   "outputs": [],
   "source": [
    "input_inflation_forecast = ColumnEnsembleForecaster(\n",
    "    [\n",
    "        (\"realdpi\", forecasting_pipeline_dpi, \"realdpi\"),\n",
    "        (\"realgdp\", forecasting_pipeline_gdp, \"realgdp\"),\n",
    "        (\"unemp\", forecasting_pipeline_unemp, \"unemp\"),\n",
    "    ]\n",
    ")"
   ]
  },
  {
   "cell_type": "markdown",
   "metadata": {
    "collapsed": false
   },
   "source": [
    "Create the inflation forecaster."
   ]
  },
  {
   "cell_type": "code",
   "execution_count": null,
   "metadata": {
    "collapsed": false
   },
   "outputs": [],
   "source": [
    "inflation_forecast = ForecastX(\n",
    "    MultiplexForecaster(\n",
    "        [\n",
    "            (\n",
    "                \"ridge\",\n",
    "                make_reduction(Ridge(), windows_identical=False, window_length=5),\n",
    "            ),\n",
    "            (\n",
    "                \"lasso\",\n",
    "                make_reduction(Lasso(), windows_identical=False, window_length=5),\n",
    "            ),\n",
    "        ]\n",
    "    ),\n",
    "    input_inflation_forecast,\n",
    ")"
   ]
  },
  {
   "cell_type": "code",
   "execution_count": null,
   "metadata": {
    "collapsed": false
   },
   "outputs": [
    {
     "data": {
      "text/html": [
       "<style>#sk-1f99b417-e3a9-4699-9907-c94ff84264e9 {color: black;background-color: white;}#sk-1f99b417-e3a9-4699-9907-c94ff84264e9 pre{padding: 0;}#sk-1f99b417-e3a9-4699-9907-c94ff84264e9 div.sk-toggleable {background-color: white;}#sk-1f99b417-e3a9-4699-9907-c94ff84264e9 label.sk-toggleable__label {cursor: pointer;display: block;width: 100%;margin-bottom: 0;padding: 0.3em;box-sizing: border-box;text-align: center;}#sk-1f99b417-e3a9-4699-9907-c94ff84264e9 label.sk-toggleable__label-arrow:before {content: \"▸\";float: left;margin-right: 0.25em;color: #696969;}#sk-1f99b417-e3a9-4699-9907-c94ff84264e9 label.sk-toggleable__label-arrow:hover:before {color: black;}#sk-1f99b417-e3a9-4699-9907-c94ff84264e9 div.sk-estimator:hover label.sk-toggleable__label-arrow:before {color: black;}#sk-1f99b417-e3a9-4699-9907-c94ff84264e9 div.sk-toggleable__content {max-height: 0;max-width: 0;overflow: hidden;text-align: left;background-color: #f0f8ff;}#sk-1f99b417-e3a9-4699-9907-c94ff84264e9 div.sk-toggleable__content pre {margin: 0.2em;color: black;border-radius: 0.25em;background-color: #f0f8ff;}#sk-1f99b417-e3a9-4699-9907-c94ff84264e9 input.sk-toggleable__control:checked~div.sk-toggleable__content {max-height: 200px;max-width: 100%;overflow: auto;}#sk-1f99b417-e3a9-4699-9907-c94ff84264e9 input.sk-toggleable__control:checked~label.sk-toggleable__label-arrow:before {content: \"▾\";}#sk-1f99b417-e3a9-4699-9907-c94ff84264e9 div.sk-estimator input.sk-toggleable__control:checked~label.sk-toggleable__label {background-color: #d4ebff;}#sk-1f99b417-e3a9-4699-9907-c94ff84264e9 div.sk-label input.sk-toggleable__control:checked~label.sk-toggleable__label {background-color: #d4ebff;}#sk-1f99b417-e3a9-4699-9907-c94ff84264e9 input.sk-hidden--visually {border: 0;clip: rect(1px 1px 1px 1px);clip: rect(1px, 1px, 1px, 1px);height: 1px;margin: -1px;overflow: hidden;padding: 0;position: absolute;width: 1px;}#sk-1f99b417-e3a9-4699-9907-c94ff84264e9 div.sk-estimator {font-family: monospace;background-color: #f0f8ff;border: 1px dotted black;border-radius: 0.25em;box-sizing: border-box;margin-bottom: 0.5em;}#sk-1f99b417-e3a9-4699-9907-c94ff84264e9 div.sk-estimator:hover {background-color: #d4ebff;}#sk-1f99b417-e3a9-4699-9907-c94ff84264e9 div.sk-parallel-item::after {content: \"\";width: 100%;border-bottom: 1px solid gray;flex-grow: 1;}#sk-1f99b417-e3a9-4699-9907-c94ff84264e9 div.sk-label:hover label.sk-toggleable__label {background-color: #d4ebff;}#sk-1f99b417-e3a9-4699-9907-c94ff84264e9 div.sk-serial::before {content: \"\";position: absolute;border-left: 1px solid gray;box-sizing: border-box;top: 2em;bottom: 0;left: 50%;}#sk-1f99b417-e3a9-4699-9907-c94ff84264e9 div.sk-serial {display: flex;flex-direction: column;align-items: center;background-color: white;padding-right: 0.2em;padding-left: 0.2em;}#sk-1f99b417-e3a9-4699-9907-c94ff84264e9 div.sk-item {z-index: 1;}#sk-1f99b417-e3a9-4699-9907-c94ff84264e9 div.sk-parallel {display: flex;align-items: stretch;justify-content: center;background-color: white;}#sk-1f99b417-e3a9-4699-9907-c94ff84264e9 div.sk-parallel::before {content: \"\";position: absolute;border-left: 1px solid gray;box-sizing: border-box;top: 2em;bottom: 0;left: 50%;}#sk-1f99b417-e3a9-4699-9907-c94ff84264e9 div.sk-parallel-item {display: flex;flex-direction: column;position: relative;background-color: white;}#sk-1f99b417-e3a9-4699-9907-c94ff84264e9 div.sk-parallel-item:first-child::after {align-self: flex-end;width: 50%;}#sk-1f99b417-e3a9-4699-9907-c94ff84264e9 div.sk-parallel-item:last-child::after {align-self: flex-start;width: 50%;}#sk-1f99b417-e3a9-4699-9907-c94ff84264e9 div.sk-parallel-item:only-child::after {width: 0;}#sk-1f99b417-e3a9-4699-9907-c94ff84264e9 div.sk-dashed-wrapped {border: 1px dashed gray;margin: 0 0.4em 0.5em 0.4em;box-sizing: border-box;padding-bottom: 0.4em;background-color: white;position: relative;}#sk-1f99b417-e3a9-4699-9907-c94ff84264e9 div.sk-label label {font-family: monospace;font-weight: bold;background-color: white;display: inline-block;line-height: 1.2em;}#sk-1f99b417-e3a9-4699-9907-c94ff84264e9 div.sk-label-container {position: relative;z-index: 2;text-align: center;}#sk-1f99b417-e3a9-4699-9907-c94ff84264e9 div.sk-container {/* jupyter's `normalize.less` sets `[hidden] { display: none; }` but bootstrap.min.css set `[hidden] { display: none !important; }` so we also need the `!important` here to be able to override the default hidden behavior on the sphinx rendered scikit-learn.org. See: https://github.com/scikit-learn/scikit-learn/issues/21755 */display: inline-block !important;position: relative;}#sk-1f99b417-e3a9-4699-9907-c94ff84264e9 div.sk-text-repr-fallback {display: none;}</style><div id='sk-1f99b417-e3a9-4699-9907-c94ff84264e9' class=\"sk-top-container\"><div class=\"sk-text-repr-fallback\"><pre>ForecastX(forecaster_X=ColumnEnsembleForecaster(forecasters=[(&#x27;realdpi&#x27;,\n",
       "                                                              TransformedTargetForecaster(steps=[ColumnSelect(columns=[&#x27;realdpi&#x27;]),\n",
       "                                                                                                 Deseasonalizer(),\n",
       "                                                                                                 MultiplexForecaster(forecasters=[(&#x27;ridge&#x27;,\n",
       "                                                                                                                                   RecursiveTabularRegressionForecaster(estimator=Ridge(),\n",
       "                                                                                                                                                                        window_length=5)),\n",
       "                                                                                                                                  (&#x27;lasso&#x27;,\n",
       "                                                                                                                                   RecursiveTabularRegressionForecaster(estimator=Lasso(),\n",
       "                                                                                                                                                                        window_length...\n",
       "                                                                                                                                   RecursiveTabularRegressionForecaster(estimator=Ridge(),\n",
       "                                                                                                                                                                        window_length=5)),\n",
       "                                                                                                                                  (&#x27;lasso&#x27;,\n",
       "                                                                                                                                   RecursiveTabularRegressionForecaster(estimator=Lasso(),\n",
       "                                                                                                                                                                        window_length=5))])]),\n",
       "                                                              &#x27;unemp&#x27;)]),\n",
       "          forecaster_y=MultiplexForecaster(forecasters=[(&#x27;ridge&#x27;,\n",
       "                                                         RecursiveTabularRegressionForecaster(estimator=Ridge(),\n",
       "                                                                                              window_length=5)),\n",
       "                                                        (&#x27;lasso&#x27;,\n",
       "                                                         RecursiveTabularRegressionForecaster(estimator=Lasso(),\n",
       "                                                                                              window_length=5))]))</pre><b>Please rerun this cell to show the HTML repr or trust the notebook.</b></div><div class=\"sk-container\" hidden><div class=\"sk-item sk-dashed-wrapped\"><div class='sk-label-container'><div class=\"sk-label sk-toggleable\"><input class=\"sk-toggleable__control sk-hidden--visually\" id=UUID('2bf5c3fa-a3b8-4d67-96dc-d1658a238b13') type=\"checkbox\" ><label for=UUID('2bf5c3fa-a3b8-4d67-96dc-d1658a238b13') class='sk-toggleable__label sk-toggleable__label-arrow'>ForecastX</label><div class=\"sk-toggleable__content\"><pre>ForecastX(forecaster_X=ColumnEnsembleForecaster(forecasters=[(&#x27;realdpi&#x27;,\n",
       "                                                              TransformedTargetForecaster(steps=[ColumnSelect(columns=[&#x27;realdpi&#x27;]),\n",
       "                                                                                                 Deseasonalizer(),\n",
       "                                                                                                 MultiplexForecaster(forecasters=[(&#x27;ridge&#x27;,\n",
       "                                                                                                                                   RecursiveTabularRegressionForecaster(estimator=Ridge(),\n",
       "                                                                                                                                                                        window_length=5)),\n",
       "                                                                                                                                  (&#x27;lasso&#x27;,\n",
       "                                                                                                                                   RecursiveTabularRegressionForecaster(estimator=Lasso(),\n",
       "                                                                                                                                                                        window_length...\n",
       "                                                                                                                                   RecursiveTabularRegressionForecaster(estimator=Ridge(),\n",
       "                                                                                                                                                                        window_length=5)),\n",
       "                                                                                                                                  (&#x27;lasso&#x27;,\n",
       "                                                                                                                                   RecursiveTabularRegressionForecaster(estimator=Lasso(),\n",
       "                                                                                                                                                                        window_length=5))])]),\n",
       "                                                              &#x27;unemp&#x27;)]),\n",
       "          forecaster_y=MultiplexForecaster(forecasters=[(&#x27;ridge&#x27;,\n",
       "                                                         RecursiveTabularRegressionForecaster(estimator=Ridge(),\n",
       "                                                                                              window_length=5)),\n",
       "                                                        (&#x27;lasso&#x27;,\n",
       "                                                         RecursiveTabularRegressionForecaster(estimator=Lasso(),\n",
       "                                                                                              window_length=5))]))</pre></div></div></div><div class=\"sk-parallel\"><div class=\"sk-parallel-item\"><div class=\"sk-item\"><div class=\"sk-serial\"><div class=\"sk-item sk-dashed-wrapped\"><div class=\"sk-parallel\"><div class=\"sk-parallel-item\"><div class=\"sk-item\"><div class=\"sk-serial\"><div class=\"sk-item sk-dashed-wrapped\"><div class=\"sk-parallel\"><div class=\"sk-parallel-item\"><div class=\"sk-item\"><div class=\"sk-serial\"><div class='sk-item'><div class=\"sk-estimator sk-toggleable\"><input class=\"sk-toggleable__control sk-hidden--visually\" id=UUID('c0699858-a886-4aa0-8e0b-252f8ddf8b19') type=\"checkbox\" ><label for=UUID('c0699858-a886-4aa0-8e0b-252f8ddf8b19') class='sk-toggleable__label sk-toggleable__label-arrow'>ColumnSelect</label><div class=\"sk-toggleable__content\"><pre>ColumnSelect(columns=[&#x27;realdpi&#x27;])</pre></div></div></div></div></div></div><div class=\"sk-parallel-item\"><div class=\"sk-item\"><div class=\"sk-serial\"><div class='sk-item'><div class=\"sk-estimator sk-toggleable\"><input class=\"sk-toggleable__control sk-hidden--visually\" id=UUID('9d48dde2-3778-4f88-a8fc-59bcba82a9f7') type=\"checkbox\" ><label for=UUID('9d48dde2-3778-4f88-a8fc-59bcba82a9f7') class='sk-toggleable__label sk-toggleable__label-arrow'>Deseasonalizer</label><div class=\"sk-toggleable__content\"><pre>Deseasonalizer()</pre></div></div></div></div></div></div><div class=\"sk-parallel-item\"><div class=\"sk-item\"><div class=\"sk-serial\"><div class=\"sk-item sk-dashed-wrapped\"><div class=\"sk-parallel\"><div class=\"sk-parallel-item\"><div class=\"sk-item\"><div class=\"sk-serial\"><div class=\"sk-item sk-dashed-wrapped\"><div class=\"sk-parallel\"><div class=\"sk-parallel-item\"><div class=\"sk-item\"><div class=\"sk-serial\"><div class='sk-item'><div class=\"sk-estimator sk-toggleable\"><input class=\"sk-toggleable__control sk-hidden--visually\" id=UUID('89e4a68b-76f6-4730-96bc-0fb3ac0f17cd') type=\"checkbox\" ><label for=UUID('89e4a68b-76f6-4730-96bc-0fb3ac0f17cd') class='sk-toggleable__label sk-toggleable__label-arrow'>Ridge</label><div class=\"sk-toggleable__content\"><pre>Ridge()</pre></div></div></div></div></div></div></div></div></div></div></div><div class=\"sk-parallel-item\"><div class=\"sk-item\"><div class=\"sk-serial\"><div class=\"sk-item sk-dashed-wrapped\"><div class=\"sk-parallel\"><div class=\"sk-parallel-item\"><div class=\"sk-item\"><div class=\"sk-serial\"><div class='sk-item'><div class=\"sk-estimator sk-toggleable\"><input class=\"sk-toggleable__control sk-hidden--visually\" id=UUID('ab3290ca-c4f3-474d-8eb5-fad70d194475') type=\"checkbox\" ><label for=UUID('ab3290ca-c4f3-474d-8eb5-fad70d194475') class='sk-toggleable__label sk-toggleable__label-arrow'>Lasso</label><div class=\"sk-toggleable__content\"><pre>Lasso()</pre></div></div></div></div></div></div></div></div></div></div></div></div></div></div></div></div></div></div></div></div></div><div class=\"sk-parallel-item\"><div class=\"sk-item\"><div class=\"sk-serial\"><div class=\"sk-item sk-dashed-wrapped\"><div class=\"sk-parallel\"><div class=\"sk-parallel-item\"><div class=\"sk-item\"><div class=\"sk-serial\"><div class='sk-item'><div class=\"sk-estimator sk-toggleable\"><input class=\"sk-toggleable__control sk-hidden--visually\" id=UUID('5efa00af-0ef1-4613-80f4-c9c3caee8be7') type=\"checkbox\" ><label for=UUID('5efa00af-0ef1-4613-80f4-c9c3caee8be7') class='sk-toggleable__label sk-toggleable__label-arrow'>ColumnSelect</label><div class=\"sk-toggleable__content\"><pre>ColumnSelect(columns=[&#x27;realgdp&#x27;])</pre></div></div></div></div></div></div><div class=\"sk-parallel-item\"><div class=\"sk-item\"><div class=\"sk-serial\"><div class='sk-item'><div class=\"sk-estimator sk-toggleable\"><input class=\"sk-toggleable__control sk-hidden--visually\" id=UUID('33a2e630-a46f-46f2-b05c-b22223593aa1') type=\"checkbox\" ><label for=UUID('33a2e630-a46f-46f2-b05c-b22223593aa1') class='sk-toggleable__label sk-toggleable__label-arrow'>Deseasonalizer</label><div class=\"sk-toggleable__content\"><pre>Deseasonalizer()</pre></div></div></div></div></div></div><div class=\"sk-parallel-item\"><div class=\"sk-item\"><div class=\"sk-serial\"><div class=\"sk-item sk-dashed-wrapped\"><div class=\"sk-parallel\"><div class=\"sk-parallel-item\"><div class=\"sk-item\"><div class=\"sk-serial\"><div class=\"sk-item sk-dashed-wrapped\"><div class=\"sk-parallel\"><div class=\"sk-parallel-item\"><div class=\"sk-item\"><div class=\"sk-serial\"><div class='sk-item'><div class=\"sk-estimator sk-toggleable\"><input class=\"sk-toggleable__control sk-hidden--visually\" id=UUID('1d9117bf-f55b-4357-86d1-14b57faf343e') type=\"checkbox\" ><label for=UUID('1d9117bf-f55b-4357-86d1-14b57faf343e') class='sk-toggleable__label sk-toggleable__label-arrow'>Ridge</label><div class=\"sk-toggleable__content\"><pre>Ridge()</pre></div></div></div></div></div></div></div></div></div></div></div><div class=\"sk-parallel-item\"><div class=\"sk-item\"><div class=\"sk-serial\"><div class=\"sk-item sk-dashed-wrapped\"><div class=\"sk-parallel\"><div class=\"sk-parallel-item\"><div class=\"sk-item\"><div class=\"sk-serial\"><div class='sk-item'><div class=\"sk-estimator sk-toggleable\"><input class=\"sk-toggleable__control sk-hidden--visually\" id=UUID('ba67160b-8c5e-4a13-a1f3-a014c155111a') type=\"checkbox\" ><label for=UUID('ba67160b-8c5e-4a13-a1f3-a014c155111a') class='sk-toggleable__label sk-toggleable__label-arrow'>Lasso</label><div class=\"sk-toggleable__content\"><pre>Lasso()</pre></div></div></div></div></div></div></div></div></div></div></div></div></div></div></div></div></div></div></div></div></div><div class=\"sk-parallel-item\"><div class=\"sk-item\"><div class=\"sk-serial\"><div class=\"sk-item sk-dashed-wrapped\"><div class=\"sk-parallel\"><div class=\"sk-parallel-item\"><div class=\"sk-item\"><div class=\"sk-serial\"><div class='sk-item'><div class=\"sk-estimator sk-toggleable\"><input class=\"sk-toggleable__control sk-hidden--visually\" id=UUID('f40d9c73-2e2f-43e9-afe8-56b90b419d5b') type=\"checkbox\" ><label for=UUID('f40d9c73-2e2f-43e9-afe8-56b90b419d5b') class='sk-toggleable__label sk-toggleable__label-arrow'>ColumnSelect</label><div class=\"sk-toggleable__content\"><pre>ColumnSelect(columns=[&#x27;unemp&#x27;])</pre></div></div></div></div></div></div><div class=\"sk-parallel-item\"><div class=\"sk-item\"><div class=\"sk-serial\"><div class='sk-item'><div class=\"sk-estimator sk-toggleable\"><input class=\"sk-toggleable__control sk-hidden--visually\" id=UUID('ff194784-e7b9-4425-8a1c-7a06ff1f3bf8') type=\"checkbox\" ><label for=UUID('ff194784-e7b9-4425-8a1c-7a06ff1f3bf8') class='sk-toggleable__label sk-toggleable__label-arrow'>Deseasonalizer</label><div class=\"sk-toggleable__content\"><pre>Deseasonalizer()</pre></div></div></div></div></div></div><div class=\"sk-parallel-item\"><div class=\"sk-item\"><div class=\"sk-serial\"><div class=\"sk-item sk-dashed-wrapped\"><div class=\"sk-parallel\"><div class=\"sk-parallel-item\"><div class=\"sk-item\"><div class=\"sk-serial\"><div class=\"sk-item sk-dashed-wrapped\"><div class=\"sk-parallel\"><div class=\"sk-parallel-item\"><div class=\"sk-item\"><div class=\"sk-serial\"><div class='sk-item'><div class=\"sk-estimator sk-toggleable\"><input class=\"sk-toggleable__control sk-hidden--visually\" id=UUID('0208ad14-928f-482f-b621-41c66506e912') type=\"checkbox\" ><label for=UUID('0208ad14-928f-482f-b621-41c66506e912') class='sk-toggleable__label sk-toggleable__label-arrow'>Ridge</label><div class=\"sk-toggleable__content\"><pre>Ridge()</pre></div></div></div></div></div></div></div></div></div></div></div><div class=\"sk-parallel-item\"><div class=\"sk-item\"><div class=\"sk-serial\"><div class=\"sk-item sk-dashed-wrapped\"><div class=\"sk-parallel\"><div class=\"sk-parallel-item\"><div class=\"sk-item\"><div class=\"sk-serial\"><div class='sk-item'><div class=\"sk-estimator sk-toggleable\"><input class=\"sk-toggleable__control sk-hidden--visually\" id=UUID('9fc67bc8-6d12-4814-abc8-82410e4b7324') type=\"checkbox\" ><label for=UUID('9fc67bc8-6d12-4814-abc8-82410e4b7324') class='sk-toggleable__label sk-toggleable__label-arrow'>Lasso</label><div class=\"sk-toggleable__content\"><pre>Lasso()</pre></div></div></div></div></div></div></div></div></div></div></div></div></div></div></div></div></div></div></div></div></div></div></div></div></div></div><div class=\"sk-parallel-item\"><div class=\"sk-item\"><div class=\"sk-serial\"><div class=\"sk-item sk-dashed-wrapped\"><div class=\"sk-parallel\"><div class=\"sk-parallel-item\"><div class=\"sk-item\"><div class=\"sk-serial\"><div class=\"sk-item sk-dashed-wrapped\"><div class=\"sk-parallel\"><div class=\"sk-parallel-item\"><div class=\"sk-item\"><div class=\"sk-serial\"><div class='sk-item'><div class=\"sk-estimator sk-toggleable\"><input class=\"sk-toggleable__control sk-hidden--visually\" id=UUID('1ce5110f-d2d7-466d-a2dc-39d8b094042d') type=\"checkbox\" ><label for=UUID('1ce5110f-d2d7-466d-a2dc-39d8b094042d') class='sk-toggleable__label sk-toggleable__label-arrow'>Ridge</label><div class=\"sk-toggleable__content\"><pre>Ridge()</pre></div></div></div></div></div></div></div></div></div></div></div><div class=\"sk-parallel-item\"><div class=\"sk-item\"><div class=\"sk-serial\"><div class=\"sk-item sk-dashed-wrapped\"><div class=\"sk-parallel\"><div class=\"sk-parallel-item\"><div class=\"sk-item\"><div class=\"sk-serial\"><div class='sk-item'><div class=\"sk-estimator sk-toggleable\"><input class=\"sk-toggleable__control sk-hidden--visually\" id=UUID('62b28d82-de04-4368-9dc5-4022e81f53c4') type=\"checkbox\" ><label for=UUID('62b28d82-de04-4368-9dc5-4022e81f53c4') class='sk-toggleable__label sk-toggleable__label-arrow'>Lasso</label><div class=\"sk-toggleable__content\"><pre>Lasso()</pre></div></div></div></div></div></div></div></div></div></div></div></div></div></div></div></div></div></div></div></div>"
      ],
      "text/plain": [
       "ForecastX(forecaster_X=ColumnEnsembleForecaster(forecasters=[('realdpi',\n",
       "                                                              TransformedTargetForecaster(steps=[ColumnSelect(columns=['realdpi']),\n",
       "                                                                                                 Deseasonalizer(),\n",
       "                                                                                                 MultiplexForecaster(forecasters=[('ridge',\n",
       "                                                                                                                                   RecursiveTabularRegressionForecaster(estimator=Ridge(),\n",
       "                                                                                                                                                                        window_length=5)),\n",
       "                                                                                                                                  ('lasso',\n",
       "                                                                                                                                   RecursiveTabularRegressionForecaster(estimator=Lasso(),\n",
       "                                                                                                                                                                        window_length...\n",
       "                                                                                                                                   RecursiveTabularRegressionForecaster(estimator=Ridge(),\n",
       "                                                                                                                                                                        window_length=5)),\n",
       "                                                                                                                                  ('lasso',\n",
       "                                                                                                                                   RecursiveTabularRegressionForecaster(estimator=Lasso(),\n",
       "                                                                                                                                                                        window_length=5))])]),\n",
       "                                                              'unemp')]),\n",
       "          forecaster_y=MultiplexForecaster(forecasters=[('ridge',\n",
       "                                                         RecursiveTabularRegressionForecaster(estimator=Ridge(),\n",
       "                                                                                              window_length=5)),\n",
       "                                                        ('lasso',\n",
       "                                                         RecursiveTabularRegressionForecaster(estimator=Lasso(),\n",
       "                                                                                              window_length=5))]))"
      ]
     },
     "execution_count": 27,
     "metadata": {},
     "output_type": "execute_result"
    }
   ],
   "source": [
    "inflation_forecast.fit(y=y_train, X=X_train, fh=fh)"
   ]
  },
  {
   "cell_type": "code",
   "execution_count": null,
   "metadata": {
    "collapsed": false,
    "pycharm": {
     "is_executing": true
    }
   },
   "outputs": [
    {
     "data": {
      "text/html": [
       "<div>\n",
       "<style scoped>\n",
       "    .dataframe tbody tr th:only-of-type {\n",
       "        vertical-align: middle;\n",
       "    }\n",
       "\n",
       "    .dataframe tbody tr th {\n",
       "        vertical-align: top;\n",
       "    }\n",
       "\n",
       "    .dataframe thead th {\n",
       "        text-align: right;\n",
       "    }\n",
       "</style>\n",
       "<table border=\"1\" class=\"dataframe\">\n",
       "  <thead>\n",
       "    <tr style=\"text-align: right;\">\n",
       "      <th></th>\n",
       "      <th>infl</th>\n",
       "    </tr>\n",
       "  </thead>\n",
       "  <tbody>\n",
       "    <tr>\n",
       "      <th>2006Q4</th>\n",
       "      <td>3.979318</td>\n",
       "    </tr>\n",
       "    <tr>\n",
       "      <th>2007Q1</th>\n",
       "      <td>2.347512</td>\n",
       "    </tr>\n",
       "    <tr>\n",
       "      <th>2007Q2</th>\n",
       "      <td>1.443598</td>\n",
       "    </tr>\n",
       "    <tr>\n",
       "      <th>2007Q3</th>\n",
       "      <td>3.914533</td>\n",
       "    </tr>\n",
       "    <tr>\n",
       "      <th>2007Q4</th>\n",
       "      <td>2.533117</td>\n",
       "    </tr>\n",
       "    <tr>\n",
       "      <th>2008Q1</th>\n",
       "      <td>3.278010</td>\n",
       "    </tr>\n",
       "    <tr>\n",
       "      <th>2008Q2</th>\n",
       "      <td>3.861517</td>\n",
       "    </tr>\n",
       "    <tr>\n",
       "      <th>2008Q3</th>\n",
       "      <td>3.487510</td>\n",
       "    </tr>\n",
       "    <tr>\n",
       "      <th>2008Q4</th>\n",
       "      <td>4.195074</td>\n",
       "    </tr>\n",
       "    <tr>\n",
       "      <th>2009Q1</th>\n",
       "      <td>4.294984</td>\n",
       "    </tr>\n",
       "    <tr>\n",
       "      <th>2009Q2</th>\n",
       "      <td>4.433578</td>\n",
       "    </tr>\n",
       "    <tr>\n",
       "      <th>2009Q3</th>\n",
       "      <td>4.858610</td>\n",
       "    </tr>\n",
       "  </tbody>\n",
       "</table>\n",
       "</div>"
      ],
      "text/plain": [
       "            infl\n",
       "2006Q4  3.979318\n",
       "2007Q1  2.347512\n",
       "2007Q2  1.443598\n",
       "2007Q3  3.914533\n",
       "2007Q4  2.533117\n",
       "2008Q1  3.278010\n",
       "2008Q2  3.861517\n",
       "2008Q3  3.487510\n",
       "2008Q4  4.195074\n",
       "2009Q1  4.294984\n",
       "2009Q2  4.433578\n",
       "2009Q3  4.858610"
      ]
     },
     "execution_count": 28,
     "metadata": {},
     "output_type": "execute_result"
    }
   ],
   "source": [
    "inflation_forecast.predict()"
   ]
  },
  {
   "cell_type": "markdown",
   "metadata": {
    "collapsed": false
   },
   "source": [
    "Ok, we can built it, but what about the hyperparameter tuning? Let us investigate the paramters.."
   ]
  },
  {
   "cell_type": "code",
   "execution_count": null,
   "metadata": {
    "collapsed": false
   },
   "outputs": [
    {
     "data": {
      "text/plain": [
       "['behaviour',\n",
       " 'columns',\n",
       " 'fh_X',\n",
       " 'forecaster_X',\n",
       " 'forecaster_y',\n",
       " 'forecaster_X__forecasters',\n",
       " 'forecaster_X__realdpi',\n",
       " 'forecaster_X__realgdp',\n",
       " 'forecaster_X__unemp',\n",
       " 'forecaster_X__realdpi__steps',\n",
       " 'forecaster_X__realdpi__ColumnSelect',\n",
       " 'forecaster_X__realdpi__Deseasonalizer',\n",
       " 'forecaster_X__realdpi__MultiplexForecaster',\n",
       " 'forecaster_X__realdpi__ColumnSelect__columns',\n",
       " 'forecaster_X__realdpi__ColumnSelect__index_treatment',\n",
       " 'forecaster_X__realdpi__ColumnSelect__integer_treatment',\n",
       " 'forecaster_X__realdpi__Deseasonalizer__model',\n",
       " 'forecaster_X__realdpi__Deseasonalizer__sp',\n",
       " 'forecaster_X__realdpi__MultiplexForecaster__forecasters',\n",
       " 'forecaster_X__realdpi__MultiplexForecaster__selected_forecaster',\n",
       " 'forecaster_X__realdpi__MultiplexForecaster__ridge',\n",
       " 'forecaster_X__realdpi__MultiplexForecaster__lasso',\n",
       " 'forecaster_X__realdpi__MultiplexForecaster__ridge__estimator',\n",
       " 'forecaster_X__realdpi__MultiplexForecaster__ridge__pooling',\n",
       " 'forecaster_X__realdpi__MultiplexForecaster__ridge__transformers',\n",
       " 'forecaster_X__realdpi__MultiplexForecaster__ridge__window_length',\n",
       " 'forecaster_X__realdpi__MultiplexForecaster__ridge__estimator__alpha',\n",
       " 'forecaster_X__realdpi__MultiplexForecaster__ridge__estimator__copy_X',\n",
       " 'forecaster_X__realdpi__MultiplexForecaster__ridge__estimator__fit_intercept',\n",
       " 'forecaster_X__realdpi__MultiplexForecaster__ridge__estimator__max_iter',\n",
       " 'forecaster_X__realdpi__MultiplexForecaster__ridge__estimator__normalize',\n",
       " 'forecaster_X__realdpi__MultiplexForecaster__ridge__estimator__positive',\n",
       " 'forecaster_X__realdpi__MultiplexForecaster__ridge__estimator__random_state',\n",
       " 'forecaster_X__realdpi__MultiplexForecaster__ridge__estimator__solver',\n",
       " 'forecaster_X__realdpi__MultiplexForecaster__ridge__estimator__tol',\n",
       " 'forecaster_X__realdpi__MultiplexForecaster__lasso__estimator',\n",
       " 'forecaster_X__realdpi__MultiplexForecaster__lasso__pooling',\n",
       " 'forecaster_X__realdpi__MultiplexForecaster__lasso__transformers',\n",
       " 'forecaster_X__realdpi__MultiplexForecaster__lasso__window_length',\n",
       " 'forecaster_X__realdpi__MultiplexForecaster__lasso__estimator__alpha',\n",
       " 'forecaster_X__realdpi__MultiplexForecaster__lasso__estimator__copy_X',\n",
       " 'forecaster_X__realdpi__MultiplexForecaster__lasso__estimator__fit_intercept',\n",
       " 'forecaster_X__realdpi__MultiplexForecaster__lasso__estimator__max_iter',\n",
       " 'forecaster_X__realdpi__MultiplexForecaster__lasso__estimator__normalize',\n",
       " 'forecaster_X__realdpi__MultiplexForecaster__lasso__estimator__positive',\n",
       " 'forecaster_X__realdpi__MultiplexForecaster__lasso__estimator__precompute',\n",
       " 'forecaster_X__realdpi__MultiplexForecaster__lasso__estimator__random_state',\n",
       " 'forecaster_X__realdpi__MultiplexForecaster__lasso__estimator__selection',\n",
       " 'forecaster_X__realdpi__MultiplexForecaster__lasso__estimator__tol',\n",
       " 'forecaster_X__realdpi__MultiplexForecaster__lasso__estimator__warm_start',\n",
       " 'forecaster_X__realgdp__steps',\n",
       " 'forecaster_X__realgdp__ColumnSelect',\n",
       " 'forecaster_X__realgdp__Deseasonalizer',\n",
       " 'forecaster_X__realgdp__MultiplexForecaster',\n",
       " 'forecaster_X__realgdp__ColumnSelect__columns',\n",
       " 'forecaster_X__realgdp__ColumnSelect__index_treatment',\n",
       " 'forecaster_X__realgdp__ColumnSelect__integer_treatment',\n",
       " 'forecaster_X__realgdp__Deseasonalizer__model',\n",
       " 'forecaster_X__realgdp__Deseasonalizer__sp',\n",
       " 'forecaster_X__realgdp__MultiplexForecaster__forecasters',\n",
       " 'forecaster_X__realgdp__MultiplexForecaster__selected_forecaster',\n",
       " 'forecaster_X__realgdp__MultiplexForecaster__ridge',\n",
       " 'forecaster_X__realgdp__MultiplexForecaster__lasso',\n",
       " 'forecaster_X__realgdp__MultiplexForecaster__ridge__estimator',\n",
       " 'forecaster_X__realgdp__MultiplexForecaster__ridge__pooling',\n",
       " 'forecaster_X__realgdp__MultiplexForecaster__ridge__transformers',\n",
       " 'forecaster_X__realgdp__MultiplexForecaster__ridge__window_length',\n",
       " 'forecaster_X__realgdp__MultiplexForecaster__ridge__estimator__alpha',\n",
       " 'forecaster_X__realgdp__MultiplexForecaster__ridge__estimator__copy_X',\n",
       " 'forecaster_X__realgdp__MultiplexForecaster__ridge__estimator__fit_intercept',\n",
       " 'forecaster_X__realgdp__MultiplexForecaster__ridge__estimator__max_iter',\n",
       " 'forecaster_X__realgdp__MultiplexForecaster__ridge__estimator__normalize',\n",
       " 'forecaster_X__realgdp__MultiplexForecaster__ridge__estimator__positive',\n",
       " 'forecaster_X__realgdp__MultiplexForecaster__ridge__estimator__random_state',\n",
       " 'forecaster_X__realgdp__MultiplexForecaster__ridge__estimator__solver',\n",
       " 'forecaster_X__realgdp__MultiplexForecaster__ridge__estimator__tol',\n",
       " 'forecaster_X__realgdp__MultiplexForecaster__lasso__estimator',\n",
       " 'forecaster_X__realgdp__MultiplexForecaster__lasso__pooling',\n",
       " 'forecaster_X__realgdp__MultiplexForecaster__lasso__transformers',\n",
       " 'forecaster_X__realgdp__MultiplexForecaster__lasso__window_length',\n",
       " 'forecaster_X__realgdp__MultiplexForecaster__lasso__estimator__alpha',\n",
       " 'forecaster_X__realgdp__MultiplexForecaster__lasso__estimator__copy_X',\n",
       " 'forecaster_X__realgdp__MultiplexForecaster__lasso__estimator__fit_intercept',\n",
       " 'forecaster_X__realgdp__MultiplexForecaster__lasso__estimator__max_iter',\n",
       " 'forecaster_X__realgdp__MultiplexForecaster__lasso__estimator__normalize',\n",
       " 'forecaster_X__realgdp__MultiplexForecaster__lasso__estimator__positive',\n",
       " 'forecaster_X__realgdp__MultiplexForecaster__lasso__estimator__precompute',\n",
       " 'forecaster_X__realgdp__MultiplexForecaster__lasso__estimator__random_state',\n",
       " 'forecaster_X__realgdp__MultiplexForecaster__lasso__estimator__selection',\n",
       " 'forecaster_X__realgdp__MultiplexForecaster__lasso__estimator__tol',\n",
       " 'forecaster_X__realgdp__MultiplexForecaster__lasso__estimator__warm_start',\n",
       " 'forecaster_X__unemp__steps',\n",
       " 'forecaster_X__unemp__ColumnSelect',\n",
       " 'forecaster_X__unemp__Deseasonalizer',\n",
       " 'forecaster_X__unemp__MultiplexForecaster',\n",
       " 'forecaster_X__unemp__ColumnSelect__columns',\n",
       " 'forecaster_X__unemp__ColumnSelect__index_treatment',\n",
       " 'forecaster_X__unemp__ColumnSelect__integer_treatment',\n",
       " 'forecaster_X__unemp__Deseasonalizer__model',\n",
       " 'forecaster_X__unemp__Deseasonalizer__sp',\n",
       " 'forecaster_X__unemp__MultiplexForecaster__forecasters',\n",
       " 'forecaster_X__unemp__MultiplexForecaster__selected_forecaster',\n",
       " 'forecaster_X__unemp__MultiplexForecaster__ridge',\n",
       " 'forecaster_X__unemp__MultiplexForecaster__lasso',\n",
       " 'forecaster_X__unemp__MultiplexForecaster__ridge__estimator',\n",
       " 'forecaster_X__unemp__MultiplexForecaster__ridge__pooling',\n",
       " 'forecaster_X__unemp__MultiplexForecaster__ridge__transformers',\n",
       " 'forecaster_X__unemp__MultiplexForecaster__ridge__window_length',\n",
       " 'forecaster_X__unemp__MultiplexForecaster__ridge__estimator__alpha',\n",
       " 'forecaster_X__unemp__MultiplexForecaster__ridge__estimator__copy_X',\n",
       " 'forecaster_X__unemp__MultiplexForecaster__ridge__estimator__fit_intercept',\n",
       " 'forecaster_X__unemp__MultiplexForecaster__ridge__estimator__max_iter',\n",
       " 'forecaster_X__unemp__MultiplexForecaster__ridge__estimator__normalize',\n",
       " 'forecaster_X__unemp__MultiplexForecaster__ridge__estimator__positive',\n",
       " 'forecaster_X__unemp__MultiplexForecaster__ridge__estimator__random_state',\n",
       " 'forecaster_X__unemp__MultiplexForecaster__ridge__estimator__solver',\n",
       " 'forecaster_X__unemp__MultiplexForecaster__ridge__estimator__tol',\n",
       " 'forecaster_X__unemp__MultiplexForecaster__lasso__estimator',\n",
       " 'forecaster_X__unemp__MultiplexForecaster__lasso__pooling',\n",
       " 'forecaster_X__unemp__MultiplexForecaster__lasso__transformers',\n",
       " 'forecaster_X__unemp__MultiplexForecaster__lasso__window_length',\n",
       " 'forecaster_X__unemp__MultiplexForecaster__lasso__estimator__alpha',\n",
       " 'forecaster_X__unemp__MultiplexForecaster__lasso__estimator__copy_X',\n",
       " 'forecaster_X__unemp__MultiplexForecaster__lasso__estimator__fit_intercept',\n",
       " 'forecaster_X__unemp__MultiplexForecaster__lasso__estimator__max_iter',\n",
       " 'forecaster_X__unemp__MultiplexForecaster__lasso__estimator__normalize',\n",
       " 'forecaster_X__unemp__MultiplexForecaster__lasso__estimator__positive',\n",
       " 'forecaster_X__unemp__MultiplexForecaster__lasso__estimator__precompute',\n",
       " 'forecaster_X__unemp__MultiplexForecaster__lasso__estimator__random_state',\n",
       " 'forecaster_X__unemp__MultiplexForecaster__lasso__estimator__selection',\n",
       " 'forecaster_X__unemp__MultiplexForecaster__lasso__estimator__tol',\n",
       " 'forecaster_X__unemp__MultiplexForecaster__lasso__estimator__warm_start',\n",
       " 'forecaster_y__forecasters',\n",
       " 'forecaster_y__selected_forecaster',\n",
       " 'forecaster_y__ridge',\n",
       " 'forecaster_y__lasso',\n",
       " 'forecaster_y__ridge__estimator',\n",
       " 'forecaster_y__ridge__pooling',\n",
       " 'forecaster_y__ridge__transformers',\n",
       " 'forecaster_y__ridge__window_length',\n",
       " 'forecaster_y__ridge__estimator__alpha',\n",
       " 'forecaster_y__ridge__estimator__copy_X',\n",
       " 'forecaster_y__ridge__estimator__fit_intercept',\n",
       " 'forecaster_y__ridge__estimator__max_iter',\n",
       " 'forecaster_y__ridge__estimator__normalize',\n",
       " 'forecaster_y__ridge__estimator__positive',\n",
       " 'forecaster_y__ridge__estimator__random_state',\n",
       " 'forecaster_y__ridge__estimator__solver',\n",
       " 'forecaster_y__ridge__estimator__tol',\n",
       " 'forecaster_y__lasso__estimator',\n",
       " 'forecaster_y__lasso__pooling',\n",
       " 'forecaster_y__lasso__transformers',\n",
       " 'forecaster_y__lasso__window_length',\n",
       " 'forecaster_y__lasso__estimator__alpha',\n",
       " 'forecaster_y__lasso__estimator__copy_X',\n",
       " 'forecaster_y__lasso__estimator__fit_intercept',\n",
       " 'forecaster_y__lasso__estimator__max_iter',\n",
       " 'forecaster_y__lasso__estimator__normalize',\n",
       " 'forecaster_y__lasso__estimator__positive',\n",
       " 'forecaster_y__lasso__estimator__precompute',\n",
       " 'forecaster_y__lasso__estimator__random_state',\n",
       " 'forecaster_y__lasso__estimator__selection',\n",
       " 'forecaster_y__lasso__estimator__tol',\n",
       " 'forecaster_y__lasso__estimator__warm_start']"
      ]
     },
     "execution_count": 29,
     "metadata": {},
     "output_type": "execute_result"
    }
   ],
   "source": [
    "list(inflation_forecast.get_params(True).keys())"
   ]
  },
  {
   "cell_type": "markdown",
   "metadata": {
    "collapsed": false
   },
   "source": [
    "# Uff..."
   ]
  },
  {
   "cell_type": "markdown",
   "metadata": {
    "collapsed": false
   },
   "source": [
    "\n",
    "### Advantages of graphical pipelines\n",
    "* Enable an easy implementation of complex pipelines\n",
    "    * By nesting sequential pipelines, even a simplified version of the graphical pipeline is very complicat to implement.\n",
    "    * By nesting sequential pipelines, some graphical pipelines are not possible to implement (e.g., the example with coupled ForecastX).\n",
    "* Preprocessing steps can not be shared between the different forecasters.\n",
    "* The parameter structure can be very complex for the sequential pipelines.\n",
    "* In a complex scenario, how would you fine-tune the edges?\n",
    "\n",
    "### Advantages of sequential pipelines\n",
    "* Constructing simple pipelines is very easy.\n",
    "* Inverse operations are automatically applied.\n",
    "* This is a mature feature compared to the experimental graphical pipeline.\n"
   ]
  },
  {
   "cell_type": "markdown",
   "metadata": {},
   "source": [
    "---\n",
    "\n",
    "### Credits: notebook 2 - pipelines\n",
    "\n",
    "notebook creation: benheid (graphical pipeline, overall), AutoML is based on pyData global 2022 notebook created by aiwalter.\n",
    "\n",
    "forecaster pipelines: fkiraly, aiwalter\\\n",
    "transformer pipelines & compositors: fkiraly, mloning, miraep8\\\n",
    "dunder interface: fkiraly, miraep8\\\n",
    "graphical pipeline: benheid, fkiraly\\\n",
    "\n",
    "tuning, autoML: mloning, fkiraly, aiwalter\\\n",
    "CV and splitters: mloning, kkoralturk, khrapovs\\\n",
    "forecasting metrics: mloning, aiwalter, rnkuhns, fkiraly\\\n"
   ]
  }
 ],
 "metadata": {
  "kernelspec": {
   "display_name": "Python 3.8.13 ('pydata22')",
   "language": "python",
   "name": "python3"
  },
  "language_info": {
   "codemirror_mode": {
    "name": "ipython",
    "version": 3
   },
   "file_extension": ".py",
   "mimetype": "text/x-python",
   "name": "python",
   "nbconvert_exporter": "python",
   "pygments_lexer": "ipython3",
   "version": "3.9.13"
  },
  "orig_nbformat": 4,
  "vscode": {
   "interpreter": {
    "hash": "e61b44dca3bf47c8973c8cd627825697e2dad493e19dd6592afda0a0a3c312a0"
   }
  }
 },
 "nbformat": 4,
 "nbformat_minor": 2
}
